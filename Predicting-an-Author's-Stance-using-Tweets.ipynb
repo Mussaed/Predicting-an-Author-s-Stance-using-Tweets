{
 "cells": [
  {
   "cell_type": "code",
   "execution_count": 1,
   "id": "c25dee6c",
   "metadata": {
    "_cell_guid": "b1076dfc-b9ad-4769-8c92-a6c4dae69d19",
    "_uuid": "8f2839f25d086af736a60e9eeb907d3b93b6e0e5",
    "execution": {
     "iopub.execute_input": "2024-03-10T18:58:32.513920Z",
     "iopub.status.busy": "2024-03-10T18:58:32.513449Z",
     "iopub.status.idle": "2024-03-10T18:58:48.770626Z",
     "shell.execute_reply": "2024-03-10T18:58:48.769646Z"
    },
    "papermill": {
     "duration": 16.276652,
     "end_time": "2024-03-10T18:58:48.772904",
     "exception": false,
     "start_time": "2024-03-10T18:58:32.496252",
     "status": "completed"
    },
    "tags": []
   },
   "outputs": [
    {
     "name": "stdout",
     "output_type": "stream",
     "text": [
      "/kaggle/input/predicting-a-writers-stance/dummy-submission.csv\n",
      "/kaggle/input/predicting-a-writers-stance/train.csv\n",
      "/kaggle/input/predicting-a-writers-stance/test.csv\n"
     ]
    }
   ],
   "source": [
    "# This Python 3 environment comes with many helpful analytics libraries installed\n",
    "# It is defined by the kaggle/python Docker image: https://github.com/kaggle/docker-python\n",
    "# For example, here's several helpful packages to load\n",
    "\n",
    "import numpy as np # linear algebra\n",
    "import pandas as pd # data processing, CSV file I/O (e.g. pd.read_csv)\n",
    "import numpy as np \n",
    "import pandas as pd\n",
    "import pathlib\n",
    "import requests\n",
    "import joblib\n",
    "import matplotlib.pyplot as plt\n",
    "import numpy as np\n",
    "import pandas as pd\n",
    "# from imblearn import*\n",
    "from sklearn import dummy, linear_model, feature_selection, metrics\n",
    "from sklearn import model_selection, pipeline, preprocessing, impute, compose, ensemble, neighbors, svm, tree\n",
    "import xgboost as xgb\n",
    "from sklearn import linear_model, svm\n",
    "from sklearn.model_selection import GridSearchCV\n",
    "\n",
    "from sklearn.linear_model import LogisticRegression, RidgeClassifier\n",
    "from sklearn.discriminant_analysis import LinearDiscriminantAnalysis, QuadraticDiscriminantAnalysis\n",
    "from sklearn.svm import SVC, NuSVC, LinearSVC\n",
    "from sklearn.neighbors import KNeighborsClassifier, RadiusNeighborsClassifier\n",
    "from sklearn.gaussian_process import GaussianProcessClassifier\n",
    "from sklearn.tree import DecisionTreeClassifier\n",
    "from sklearn.ensemble import RandomForestClassifier, GradientBoostingClassifier, ExtraTreesClassifier, AdaBoostClassifier, BaggingClassifier\n",
    "from sklearn.naive_bayes import GaussianNB, MultinomialNB, ComplementNB, BernoulliNB, CategoricalNB\n",
    "from sklearn.neural_network import MLPClassifier\n",
    "from sklearn.linear_model import SGDClassifier, PassiveAggressiveClassifier\n",
    "from sklearn.calibration import CalibratedClassifierCV\n",
    "\n",
    "from sklearn.pipeline import make_pipeline\n",
    "from sklearn.metrics import classification_report\n",
    "\n",
    "from sklearn.base import BaseEstimator, TransformerMixin\n",
    "from sklearn.pipeline import Pipeline\n",
    "import spacy \n",
    "import numpy as np\n",
    "import pandas as pd\n",
    "from sklearn.feature_extraction.text import TfidfVectorizer\n",
    "from sklearn.feature_extraction.text import CountVectorizer\n",
    "\n",
    "import nltk\n",
    "from sklearn import compose, dummy, feature_extraction, metrics\n",
    "from sklearn import pipeline, preprocessing\n",
    "from sklearn import svm\n",
    "import numpy as np \n",
    "import pandas as pd\n",
    "import pathlib\n",
    "import requests\n",
    "import joblib\n",
    "import matplotlib.pyplot as plt\n",
    "import numpy as np\n",
    "import pandas as pd\n",
    "# from imblearn import*\n",
    "from sklearn import dummy, linear_model, feature_selection, metrics\n",
    "from sklearn import model_selection, pipeline, preprocessing, impute, compose, ensemble, neighbors, svm, tree\n",
    "import xgboost as xgb\n",
    "from sklearn import linear_model, svm\n",
    "from sklearn.model_selection import GridSearchCV\n",
    "from sklearn.ensemble import RandomForestClassifier\n",
    "from sklearn.naive_bayes import BernoulliNB\n",
    "from sklearn.naive_bayes import MultinomialNB\n",
    "from sklearn.naive_bayes import ComplementNB\n",
    "\n",
    "\n",
    "\n",
    "from sklearn.decomposition import PCA\n",
    "from sklearn.cluster import KMeans\n",
    "from sklearn.metrics import silhouette_samples, silhouette_score\n",
    "import matplotlib.pyplot as plt\n",
    "import numpy as np\n",
    "from sklearn.pipeline import FeatureUnion\n",
    "\n",
    "from sklearn.pipeline import make_pipeline, FeatureUnion, Pipeline\n",
    "from sklearn.cluster import KMeans\n",
    "from sklearn.decomposition import PCA\n",
    "from sklearn.preprocessing import StandardScaler\n",
    "from sklearn.base import TransformerMixin, BaseEstimator\n",
    "import numpy as np # linear algebra\n",
    "import pandas as pd # data processing, CSV file I/O (e.g. pd.read_csv)\n",
    "import xgboost as xgb\n",
    "from sklearn.decomposition import PCA\n",
    "from sklearn.cluster import KMeans\n",
    "from sklearn.metrics import silhouette_samples, silhouette_score\n",
    "import matplotlib.pyplot as plt\n",
    "import numpy as np\n",
    "from sklearn.pipeline import FeatureUnion\n",
    "\n",
    "import re\n",
    "import string\n",
    "import numpy as np \n",
    "import random\n",
    "import pandas as pd \n",
    "import matplotlib.pyplot as plt\n",
    "import seaborn as sns\n",
    "%matplotlib inline\n",
    "from plotly import graph_objs as go\n",
    "import plotly.express as px\n",
    "import plotly.figure_factory as ff\n",
    "from collections import Counter\n",
    "\n",
    "from PIL import Image\n",
    "from wordcloud import WordCloud, STOPWORDS, ImageColorGenerator\n",
    "\n",
    "\n",
    "import nltk\n",
    "from nltk.corpus import stopwords\n",
    "\n",
    "from tqdm import tqdm\n",
    "import os\n",
    "import nltk\n",
    "import spacy\n",
    "import random\n",
    "from spacy.util import compounding\n",
    "from spacy.util import minibatch\n",
    "\n",
    "from sklearn.pipeline import make_pipeline, FeatureUnion, Pipeline\n",
    "from sklearn.cluster import KMeans\n",
    "from sklearn.decomposition import PCA\n",
    "from sklearn.preprocessing import StandardScaler\n",
    "from sklearn.base import TransformerMixin, BaseEstimator\n",
    "import numpy as np # linear algebra\n",
    "import pandas as pd # data processing, CSV file I/O (e.g. pd.read_csv)\n",
    "import xgboost as xgb\n",
    "\n",
    "# Input data files are available in the read-only \"../input/\" directory\n",
    "# For example, running this (by clicking run or pressing Shift+Enter) will list all files under the input directory\n",
    "import numpy as np\n",
    "import pandas as pd\n",
    "\n",
    "import torch\n",
    "import transformers as ppb # pytorch transformers\n",
    "\n",
    "\n",
    "from sklearn.linear_model import LogisticRegression\n",
    "from sklearn.model_selection import cross_val_score\n",
    "\n",
    "from sklearn.preprocessing import LabelEncoder\n",
    "from sklearn.model_selection import train_test_split\n",
    "\n",
    "from sklearn.naive_bayes import MultinomialNB\n",
    "\n",
    "import warnings\n",
    "\n",
    "import tqdm\n",
    "\n",
    "\n",
    "import os\n",
    "# for dirname, _, filenames in os.walk('/kaggle/input'):\n",
    "#     for filename in filenames:\n",
    "#         print(os.path.join(dirname, filename))\n",
    "\n",
    "# # You can write up to 20GB to the current directory (/kaggle/working/) that gets preserved as output when you create a version using \"Save & Run All\" \n",
    "# # You can also write temporary files to /kaggle/temp/, but they won't be saved outside of the current session\n",
    "# Input data files are available in the read-only \"../input/\" directory\n",
    "# For example, running this (by clicking run or pressing Shift+Enter) will list all files under the input directory\n",
    "\n",
    "import os\n",
    "for dirname, _, filenames in os.walk('/kaggle/input'):\n",
    "    for filename in filenames:\n",
    "        print(os.path.join(dirname, filename))\n",
    "\n",
    "# You can write up to 20GB to the current directory (/kaggle/working/) that gets preserved as output when you create a version using \"Save & Run All\" \n",
    "# You can also write temporary files to /kaggle/temp/, but they won't be saved outside of the current session"
   ]
  },
  {
   "cell_type": "code",
   "execution_count": 2,
   "id": "4261998e",
   "metadata": {
    "execution": {
     "iopub.execute_input": "2024-03-10T18:58:48.803986Z",
     "iopub.status.busy": "2024-03-10T18:58:48.803436Z",
     "iopub.status.idle": "2024-03-10T18:58:48.903852Z",
     "shell.execute_reply": "2024-03-10T18:58:48.903016Z"
    },
    "papermill": {
     "duration": 0.118173,
     "end_time": "2024-03-10T18:58:48.906363",
     "exception": false,
     "start_time": "2024-03-10T18:58:48.788190",
     "status": "completed"
    },
    "tags": []
   },
   "outputs": [],
   "source": [
    "test_df = pd.read_csv(\n",
    "    \"/kaggle/input/predicting-a-writers-stance/test.csv\",\n",
    "    parse_dates=[\"datetime\"]\n",
    ")\n",
    "train_df = (\n",
    "    pd.read_csv(\n",
    "        \"/kaggle/input/predicting-a-writers-stance/train.csv\",\n",
    "        parse_dates=[\"datetime\"],\n",
    "    ).fillna({\"stance\": \"None\"})\n",
    ")"
   ]
  },
  {
   "cell_type": "code",
   "execution_count": 3,
   "id": "1c29acfe",
   "metadata": {
    "execution": {
     "iopub.execute_input": "2024-03-10T18:58:48.940940Z",
     "iopub.status.busy": "2024-03-10T18:58:48.940608Z",
     "iopub.status.idle": "2024-03-10T18:58:48.956508Z",
     "shell.execute_reply": "2024-03-10T18:58:48.955821Z"
    },
    "papermill": {
     "duration": 0.03498,
     "end_time": "2024-03-10T18:58:48.958454",
     "exception": false,
     "start_time": "2024-03-10T18:58:48.923474",
     "status": "completed"
    },
    "tags": []
   },
   "outputs": [],
   "source": [
    "arabic_stop_word = (\n",
    "    nltk.corpus\n",
    "        .stopwords\n",
    "        .words(\"arabic\")\n",
    ")\n",
    "stop_words_list=[\"علي\",\"عمل\",\"ان\",\"كثر\",\"رقم\",\"الي\",\"فعل\",\"قبل\",\"او\",\"الله\",\"اللي\",\"او\",\"خلال\",\"حتي\",\"جدا\",\"تم\",\"انا\",\n",
    " \"انه\",\"محمد بن\",\"الا\",\"بن سلمان\",\"الان\",\"يعني\",\"انها\",\"فقط\",\"بكل\",\"وفي\",\"بان\",\"يكون\",\"اذا\",\"وكل\"\n",
    " ,\"فعلا\",\"لان\",\"وليس\",\"مو\",\"احد\",\"وان\",\"سنه\",\"ال\",\"مش\",\"ليش\",\"اني\"\n",
    " ,\"ان يكون\",\"ان تكون\",\"اني\",\"ونحن\",\"نفسه\",\"اما\",\"مثال\"\n",
    " ,\"سبيل\",\"بلا\",\"وانا\",\"وعلي\",\"اخر\",\"لدي\",\"انا\",\"مثلا\",\"اذا\",\"اي\",\"انت\",\"لانه\",\"كلها\",\"كله\",\"يتم\",\"الحين\",\"شي\",\"شيء\",\"الى\"]\n",
    "\n",
    "arabic_stop_words= stop_words_list + arabic_stop_word"
   ]
  },
  {
   "cell_type": "code",
   "execution_count": 4,
   "id": "33cb03de",
   "metadata": {
    "execution": {
     "iopub.execute_input": "2024-03-10T18:58:48.990456Z",
     "iopub.status.busy": "2024-03-10T18:58:48.989754Z",
     "iopub.status.idle": "2024-03-10T18:59:02.534012Z",
     "shell.execute_reply": "2024-03-10T18:59:02.532855Z"
    },
    "papermill": {
     "duration": 13.562581,
     "end_time": "2024-03-10T18:59:02.536045",
     "exception": false,
     "start_time": "2024-03-10T18:58:48.973464",
     "status": "completed"
    },
    "tags": []
   },
   "outputs": [
    {
     "name": "stdout",
     "output_type": "stream",
     "text": [
      "Collecting tnkeeh\r\n",
      "  Downloading tnkeeh-0.0.9-py3-none-any.whl.metadata (3.0 kB)\r\n",
      "Collecting farasapy (from tnkeeh)\r\n",
      "  Downloading farasapy-0.0.14-py3-none-any.whl.metadata (8.9 kB)\r\n",
      "Requirement already satisfied: datasets in /opt/conda/lib/python3.10/site-packages (from tnkeeh) (2.1.0)\r\n",
      "Requirement already satisfied: numpy>=1.17 in /opt/conda/lib/python3.10/site-packages (from datasets->tnkeeh) (1.26.4)\r\n",
      "Requirement already satisfied: pyarrow>=5.0.0 in /opt/conda/lib/python3.10/site-packages (from datasets->tnkeeh) (11.0.0)\r\n",
      "Requirement already satisfied: dill in /opt/conda/lib/python3.10/site-packages (from datasets->tnkeeh) (0.3.8)\r\n",
      "Requirement already satisfied: pandas in /opt/conda/lib/python3.10/site-packages (from datasets->tnkeeh) (2.1.4)\r\n",
      "Requirement already satisfied: requests>=2.19.0 in /opt/conda/lib/python3.10/site-packages (from datasets->tnkeeh) (2.31.0)\r\n",
      "Requirement already satisfied: tqdm>=4.62.1 in /opt/conda/lib/python3.10/site-packages (from datasets->tnkeeh) (4.66.1)\r\n",
      "Requirement already satisfied: xxhash in /opt/conda/lib/python3.10/site-packages (from datasets->tnkeeh) (3.4.1)\r\n",
      "Requirement already satisfied: multiprocess in /opt/conda/lib/python3.10/site-packages (from datasets->tnkeeh) (0.70.16)\r\n",
      "Requirement already satisfied: fsspec>=2021.05.0 in /opt/conda/lib/python3.10/site-packages (from fsspec[http]>=2021.05.0->datasets->tnkeeh) (2024.2.0)\r\n",
      "Requirement already satisfied: aiohttp in /opt/conda/lib/python3.10/site-packages (from datasets->tnkeeh) (3.9.1)\r\n",
      "Requirement already satisfied: huggingface-hub<1.0.0,>=0.1.0 in /opt/conda/lib/python3.10/site-packages (from datasets->tnkeeh) (0.20.3)\r\n",
      "Requirement already satisfied: packaging in /opt/conda/lib/python3.10/site-packages (from datasets->tnkeeh) (21.3)\r\n",
      "Requirement already satisfied: responses<0.19 in /opt/conda/lib/python3.10/site-packages (from datasets->tnkeeh) (0.18.0)\r\n",
      "Requirement already satisfied: attrs>=17.3.0 in /opt/conda/lib/python3.10/site-packages (from aiohttp->datasets->tnkeeh) (23.2.0)\r\n",
      "Requirement already satisfied: multidict<7.0,>=4.5 in /opt/conda/lib/python3.10/site-packages (from aiohttp->datasets->tnkeeh) (6.0.4)\r\n",
      "Requirement already satisfied: yarl<2.0,>=1.0 in /opt/conda/lib/python3.10/site-packages (from aiohttp->datasets->tnkeeh) (1.9.3)\r\n",
      "Requirement already satisfied: frozenlist>=1.1.1 in /opt/conda/lib/python3.10/site-packages (from aiohttp->datasets->tnkeeh) (1.4.1)\r\n",
      "Requirement already satisfied: aiosignal>=1.1.2 in /opt/conda/lib/python3.10/site-packages (from aiohttp->datasets->tnkeeh) (1.3.1)\r\n",
      "Requirement already satisfied: async-timeout<5.0,>=4.0 in /opt/conda/lib/python3.10/site-packages (from aiohttp->datasets->tnkeeh) (4.0.3)\r\n",
      "Requirement already satisfied: filelock in /opt/conda/lib/python3.10/site-packages (from huggingface-hub<1.0.0,>=0.1.0->datasets->tnkeeh) (3.13.1)\r\n",
      "Requirement already satisfied: pyyaml>=5.1 in /opt/conda/lib/python3.10/site-packages (from huggingface-hub<1.0.0,>=0.1.0->datasets->tnkeeh) (6.0.1)\r\n",
      "Requirement already satisfied: typing-extensions>=3.7.4.3 in /opt/conda/lib/python3.10/site-packages (from huggingface-hub<1.0.0,>=0.1.0->datasets->tnkeeh) (4.9.0)\r\n",
      "Requirement already satisfied: pyparsing!=3.0.5,>=2.0.2 in /opt/conda/lib/python3.10/site-packages (from packaging->datasets->tnkeeh) (3.1.1)\r\n",
      "Requirement already satisfied: charset-normalizer<4,>=2 in /opt/conda/lib/python3.10/site-packages (from requests>=2.19.0->datasets->tnkeeh) (3.3.2)\r\n",
      "Requirement already satisfied: idna<4,>=2.5 in /opt/conda/lib/python3.10/site-packages (from requests>=2.19.0->datasets->tnkeeh) (3.6)\r\n",
      "Requirement already satisfied: urllib3<3,>=1.21.1 in /opt/conda/lib/python3.10/site-packages (from requests>=2.19.0->datasets->tnkeeh) (1.26.18)\r\n",
      "Requirement already satisfied: certifi>=2017.4.17 in /opt/conda/lib/python3.10/site-packages (from requests>=2.19.0->datasets->tnkeeh) (2024.2.2)\r\n",
      "Requirement already satisfied: python-dateutil>=2.8.2 in /opt/conda/lib/python3.10/site-packages (from pandas->datasets->tnkeeh) (2.8.2)\r\n",
      "Requirement already satisfied: pytz>=2020.1 in /opt/conda/lib/python3.10/site-packages (from pandas->datasets->tnkeeh) (2023.3.post1)\r\n",
      "Requirement already satisfied: tzdata>=2022.1 in /opt/conda/lib/python3.10/site-packages (from pandas->datasets->tnkeeh) (2023.4)\r\n",
      "Requirement already satisfied: six>=1.5 in /opt/conda/lib/python3.10/site-packages (from python-dateutil>=2.8.2->pandas->datasets->tnkeeh) (1.16.0)\r\n",
      "Downloading tnkeeh-0.0.9-py3-none-any.whl (8.6 kB)\r\n",
      "Downloading farasapy-0.0.14-py3-none-any.whl (11 kB)\r\n",
      "Installing collected packages: farasapy, tnkeeh\r\n",
      "Successfully installed farasapy-0.0.14 tnkeeh-0.0.9\r\n",
      "Note: you may need to restart the kernel to use updated packages.\n"
     ]
    }
   ],
   "source": [
    "pip install tnkeeh"
   ]
  },
  {
   "cell_type": "code",
   "execution_count": null,
   "id": "9612f9a2",
   "metadata": {
    "papermill": {
     "duration": 0.015469,
     "end_time": "2024-03-10T18:59:02.567541",
     "exception": false,
     "start_time": "2024-03-10T18:59:02.552072",
     "status": "completed"
    },
    "tags": []
   },
   "outputs": [],
   "source": []
  },
  {
   "cell_type": "code",
   "execution_count": 5,
   "id": "0fb9e3bc",
   "metadata": {
    "execution": {
     "iopub.execute_input": "2024-03-10T18:59:02.600674Z",
     "iopub.status.busy": "2024-03-10T18:59:02.599809Z",
     "iopub.status.idle": "2024-03-10T18:59:02.610041Z",
     "shell.execute_reply": "2024-03-10T18:59:02.609367Z"
    },
    "papermill": {
     "duration": 0.028869,
     "end_time": "2024-03-10T18:59:02.611850",
     "exception": false,
     "start_time": "2024-03-10T18:59:02.582981",
     "status": "completed"
    },
    "tags": []
   },
   "outputs": [],
   "source": [
    "import tnkeeh as tn\n"
   ]
  },
  {
   "cell_type": "markdown",
   "id": "8dbfbf12",
   "metadata": {
    "papermill": {
     "duration": 0.015512,
     "end_time": "2024-03-10T18:59:02.642650",
     "exception": false,
     "start_time": "2024-03-10T18:59:02.627138",
     "status": "completed"
    },
    "tags": []
   },
   "source": [
    "# Text Cleaning "
   ]
  },
  {
   "cell_type": "markdown",
   "id": "ef3e6c7b",
   "metadata": {
    "papermill": {
     "duration": 0.015178,
     "end_time": "2024-03-10T18:59:02.673783",
     "exception": false,
     "start_time": "2024-03-10T18:59:02.658605",
     "status": "completed"
    },
    "tags": []
   },
   "source": [
    "## Tnkeeh function is arabic preprocessing library \n",
    "### we removed all the special characters,engish letters, diaritics\"tashkeel\\تشكيل\", tatweel(e.g التـــحول  should be التحول),normalize(e.g أا>ا), html element like (e.g URL ) , remove meta:  remove twitter mentions, links and hashtags, remove long words: remove words longer than 15 chars and remove characters that appear three times in sequence ( e.g: ههههههه , حلووووو)  "
   ]
  },
  {
   "cell_type": "code",
   "execution_count": 6,
   "id": "8a12423a",
   "metadata": {
    "execution": {
     "iopub.execute_input": "2024-03-10T18:59:02.705615Z",
     "iopub.status.busy": "2024-03-10T18:59:02.705324Z",
     "iopub.status.idle": "2024-03-10T18:59:03.601483Z",
     "shell.execute_reply": "2024-03-10T18:59:03.600692Z"
    },
    "papermill": {
     "duration": 0.914567,
     "end_time": "2024-03-10T18:59:03.603759",
     "exception": false,
     "start_time": "2024-03-10T18:59:02.689192",
     "status": "completed"
    },
    "tags": []
   },
   "outputs": [],
   "source": [
    "k =  tn.tnkeeh.clean_data_frame(\n",
    "    df = train_df,\n",
    "    column_name = 'text',\n",
    "    segment=False,\n",
    "    remove_special_chars=True,\n",
    "    remove_english=True,\n",
    "    normalize=True,\n",
    "    remove_diacritics=True,\n",
    "    remove_tatweel=True,\n",
    "    remove_html_elements=True,\n",
    "    remove_links=True,\n",
    "    remove_twitter_meta=True,\n",
    "    remove_long_words=True,\n",
    "    remove_repeated_chars=True,\n",
    "    \n",
    ")\n",
    "kk = tn.tnkeeh.clean_data_frame(\n",
    "    df = test_df,\n",
    "    column_name = 'text',\n",
    "    segment=False,\n",
    "    remove_special_chars=True,\n",
    "    remove_english=True,\n",
    "    normalize=True,\n",
    "    remove_diacritics=True,\n",
    "    remove_tatweel=True,\n",
    "    remove_html_elements=True,\n",
    "    remove_links=True,\n",
    "    remove_twitter_meta=True,\n",
    "    remove_long_words=True,\n",
    "    remove_repeated_chars=True,\n",
    "    \n",
    ")\n"
   ]
  },
  {
   "cell_type": "markdown",
   "id": "c8fe5b88",
   "metadata": {
    "papermill": {
     "duration": 0.015463,
     "end_time": "2024-03-10T18:59:03.635173",
     "exception": false,
     "start_time": "2024-03-10T18:59:03.619710",
     "status": "completed"
    },
    "tags": []
   },
   "source": []
  },
  {
   "cell_type": "code",
   "execution_count": 7,
   "id": "f101cb7e",
   "metadata": {
    "execution": {
     "iopub.execute_input": "2024-03-10T18:59:03.668202Z",
     "iopub.status.busy": "2024-03-10T18:59:03.667865Z",
     "iopub.status.idle": "2024-03-10T18:59:03.686506Z",
     "shell.execute_reply": "2024-03-10T18:59:03.685540Z"
    },
    "papermill": {
     "duration": 0.037369,
     "end_time": "2024-03-10T18:59:03.688517",
     "exception": false,
     "start_time": "2024-03-10T18:59:03.651148",
     "status": "completed"
    },
    "tags": []
   },
   "outputs": [
    {
     "data": {
      "text/plain": [
       "target\n",
       "Women empowerment         952\n",
       "Covid Vaccine             933\n",
       "Digital Transformation    916\n",
       "Name: count, dtype: int64"
      ]
     },
     "execution_count": 7,
     "metadata": {},
     "output_type": "execute_result"
    }
   ],
   "source": [
    "train_df.target.value_counts ()"
   ]
  },
  {
   "cell_type": "markdown",
   "id": "ed7524f4",
   "metadata": {
    "papermill": {
     "duration": 0.01604,
     "end_time": "2024-03-10T18:59:03.720904",
     "exception": false,
     "start_time": "2024-03-10T18:59:03.704864",
     "status": "completed"
    },
    "tags": []
   },
   "source": [
    "# Most common words "
   ]
  },
  {
   "cell_type": "markdown",
   "id": "cd2b9dca",
   "metadata": {
    "papermill": {
     "duration": 0.015267,
     "end_time": "2024-03-10T18:59:03.751689",
     "exception": false,
     "start_time": "2024-03-10T18:59:03.736422",
     "status": "completed"
    },
    "tags": []
   },
   "source": [
    "## Stop words included"
   ]
  },
  {
   "cell_type": "markdown",
   "id": "19d2124a",
   "metadata": {
    "papermill": {
     "duration": 0.0165,
     "end_time": "2024-03-10T18:59:03.783668",
     "exception": false,
     "start_time": "2024-03-10T18:59:03.767168",
     "status": "completed"
    },
    "tags": []
   },
   "source": [
    "* we can clearly see that the most repeated words in all categories are mostly stopwords \n",
    "* we will remove them to reduce noise "
   ]
  },
  {
   "cell_type": "code",
   "execution_count": 8,
   "id": "47e72671",
   "metadata": {
    "execution": {
     "iopub.execute_input": "2024-03-10T18:59:03.817546Z",
     "iopub.status.busy": "2024-03-10T18:59:03.817188Z",
     "iopub.status.idle": "2024-03-10T18:59:09.932536Z",
     "shell.execute_reply": "2024-03-10T18:59:09.931519Z"
    },
    "papermill": {
     "duration": 6.133915,
     "end_time": "2024-03-10T18:59:09.934639",
     "exception": false,
     "start_time": "2024-03-10T18:59:03.800724",
     "status": "completed"
    },
    "tags": []
   },
   "outputs": [
    {
     "name": "stdout",
     "output_type": "stream",
     "text": [
      "Target: Women empowerment\n",
      "Stance: Favor\n",
      "تمكين المرأة: 475\n",
      "في: 426\n",
      "من: 271\n",
      "على: 181\n",
      "و: 176\n",
      "المرأة في: 100\n",
      "تمكين المرأه: 67\n",
      "مع: 66\n",
      "هذا: 65\n",
      "الله: 62\n",
      "Stance: Against\n",
      "تمكين المرأة: 210\n",
      "من: 175\n",
      "في: 163\n",
      "المرأة: 94\n",
      "على: 76\n",
      "و: 65\n",
      "عن: 59\n",
      "هذا: 52\n",
      "الرجل: 41\n",
      "تمكين: 40\n",
      "Stance: None\n",
      "تمكين المرأة: 36\n",
      "في: 31\n",
      "من: 23\n",
      "على: 13\n",
      "أن: 9\n",
      "تمكين: 8\n",
      "عن: 7\n",
      "زمن: 6\n",
      "المرأة: 6\n",
      "ما: 6\n",
      "Target: Covid Vaccine\n",
      "Stance: Favor\n",
      "من: 237\n",
      "تطعيم كورونا: 165\n",
      "في: 155\n",
      "تطعيم: 150\n",
      "كورونا: 140\n",
      "و: 132\n",
      "على: 126\n",
      "الله: 90\n",
      "التطعيم: 81\n",
      "ما: 62\n",
      "Stance: Against\n",
      "من: 260\n",
      "تطعيم: 259\n",
      "كورونا: 238\n",
      "تطعيم كورونا: 127\n",
      "على: 126\n",
      "و: 124\n",
      "في: 119\n",
      "لا: 112\n",
      "ما: 99\n",
      "ولا: 89\n",
      "Stance: None\n",
      "تطعيم: 67\n",
      "من: 65\n",
      "كورونا: 63\n",
      "تطعيم كورونا: 61\n",
      "في: 45\n",
      "ما: 26\n",
      "التطعيم: 21\n",
      "بعد: 20\n",
      "و: 20\n",
      "بس: 17\n",
      "Target: Digital Transformation\n",
      "Stance: Favor\n",
      "في: 554\n",
      "من: 373\n",
      "التحول الرقمي: 248\n",
      "على: 219\n",
      "و: 203\n",
      "التحول الالكتروني: 135\n",
      "التحول الإلكتروني: 117\n",
      "التحول التقني: 93\n",
      "في التحول: 83\n",
      "مع: 75\n",
      "Stance: Against\n",
      "في: 89\n",
      "من: 77\n",
      "على: 43\n",
      "التحول الرقمي: 36\n",
      "التحول الإلكتروني: 28\n",
      "و: 26\n",
      "التحول الالكتروني: 26\n",
      "لا: 25\n",
      "التحول: 23\n",
      "هذا: 21\n",
      "Stance: None\n",
      "في: 74\n",
      "من: 36\n",
      "على: 30\n",
      "التحول الرقمي: 28\n",
      "و: 25\n",
      "التحول: 22\n",
      "عن: 21\n",
      "التحول الالكتروني: 19\n",
      "الإلكتروني: 18\n",
      "التحول التقني: 17\n"
     ]
    }
   ],
   "source": [
    "from wordcloud import WordCloud\n",
    "from collections import Counter\n",
    "\n",
    "# Define the targets and stances\n",
    "targets = ['Women empowerment', 'Covid Vaccine', 'Digital Transformation']\n",
    "stances = ['Favor', 'Against', 'None']\n",
    "\n",
    "for target in targets:\n",
    "    print(f\"Target: {target}\")\n",
    "    for stance in stances:\n",
    "        print(f\"Stance: {stance}\")\n",
    "        \n",
    "        # Filter the DataFrame for the specific target and stance\n",
    "        filtered_texts = train_df[(train_df['target'] == target) & (train_df['stance'] == stance)]['text']\n",
    "        \n",
    "        # Join the texts into a single string\n",
    "        combined_text = ' '.join(filtered_texts)\n",
    "        \n",
    "        # Create a WordCloud object and generate word frequencies\n",
    "        wordcloud = WordCloud(max_words=500, stopwords=None)\n",
    "        wordcloud.generate(combined_text)\n",
    "        \n",
    "        # Extract word frequencies\n",
    "        word_freq = wordcloud.process_text(combined_text)\n",
    "        \n",
    "        # Convert word frequencies to a list of tuples (word, frequency) and print them\n",
    "        word_freq_list = Counter(word_freq).most_common()\n",
    "        \n",
    "        # Print the list of word frequencies for the target and stance\n",
    "        for word, freq in word_freq_list[:10]:  # Adjust to print as many as you like\n",
    "            print(f\"{word}: {freq}\")\n"
   ]
  },
  {
   "cell_type": "markdown",
   "id": "6134e272",
   "metadata": {
    "papermill": {
     "duration": 0.01733,
     "end_time": "2024-03-10T18:59:09.968947",
     "exception": false,
     "start_time": "2024-03-10T18:59:09.951617",
     "status": "completed"
    },
    "tags": []
   },
   "source": [
    "## Stop Words Excluded"
   ]
  },
  {
   "cell_type": "code",
   "execution_count": 9,
   "id": "6b1becd1",
   "metadata": {
    "execution": {
     "iopub.execute_input": "2024-03-10T18:59:10.003105Z",
     "iopub.status.busy": "2024-03-10T18:59:10.002813Z",
     "iopub.status.idle": "2024-03-10T18:59:15.409097Z",
     "shell.execute_reply": "2024-03-10T18:59:15.408184Z"
    },
    "papermill": {
     "duration": 5.425924,
     "end_time": "2024-03-10T18:59:15.411329",
     "exception": false,
     "start_time": "2024-03-10T18:59:09.985405",
     "status": "completed"
    },
    "tags": []
   },
   "outputs": [
    {
     "name": "stdout",
     "output_type": "stream",
     "text": [
      "Target: Women empowerment\n",
      "Stance: Favor\n",
      "تمكين المرأة: 475\n",
      "المرأة: 105\n",
      "تمكين المرأه: 67\n",
      "المرأة السعودية: 62\n",
      "السعودية: 60\n",
      "تمكين: 59\n",
      "المجتمع: 53\n",
      "يوم المرأة: 41\n",
      "للمرأة: 38\n",
      "النساء: 35\n",
      "اليوم العالمي: 33\n",
      "الرجل: 32\n",
      "المرأة العالمي: 32\n",
      "العالمي للمرأة: 31\n",
      "العمل: 30\n",
      "اليوم: 30\n",
      "كانت: 28\n",
      "رؤية: 27\n",
      "الوطن: 25\n",
      "الرجال: 25\n",
      "\n",
      "\n",
      "Stance: Against\n",
      "تمكين المرأة: 210\n",
      "المرأة: 94\n",
      "الرجل: 41\n",
      "تمكين: 40\n",
      "تمكين المرأه: 37\n",
      "الرجال: 29\n",
      "المجتمع: 20\n",
      "النساء: 20\n",
      "تمكين المراة: 18\n",
      "والله: 15\n",
      "الشباب: 15\n",
      "العمل: 14\n",
      "كانت: 14\n",
      "حقوق: 13\n",
      "بسبب: 13\n",
      "الغرب: 12\n",
      "الزواج: 12\n",
      "تمكين المراه: 12\n",
      "المرأه: 11\n",
      "السعودية: 11\n",
      "\n",
      "\n",
      "Stance: None\n",
      "تمكين المرأة: 36\n",
      "تمكين: 8\n",
      "زمن: 6\n",
      "المرأة: 6\n",
      "المرأه: 4\n",
      "الجمعية: 4\n",
      "حقوق: 3\n",
      "ضد: 3\n",
      "يسوون: 2\n",
      "بطريقة: 2\n",
      "خصوصا: 2\n",
      "بدعوى: 2\n",
      "القبض: 2\n",
      "مدعيه: 2\n",
      "النبوه: 2\n",
      "غلط: 2\n",
      "النظر: 2\n",
      "قانون: 2\n",
      "نفسية: 2\n",
      "الفترة: 2\n",
      "\n",
      "\n",
      "Target: Covid Vaccine\n",
      "Stance: Favor\n",
      "تطعيم: 216\n",
      "تطعيم كورونا: 165\n",
      "كورونا: 140\n",
      "التطعيم: 81\n",
      "اللقاح: 58\n",
      "لقاح: 43\n",
      "شكرا: 35\n",
      "اليوم: 30\n",
      "الحمدلله: 29\n",
      "الناس: 27\n",
      "اخذت: 26\n",
      "لقاح كورونا: 25\n",
      "وزارة الصحة: 25\n",
      "كوفيد: 20\n",
      "يوم: 19\n",
      "فايزر: 19\n",
      "اخذ: 19\n",
      "فيروس كورونا: 19\n",
      "للتطعيم: 18\n",
      "الحمد لله: 18\n",
      "\n",
      "\n",
      "Stance: Against\n",
      "تطعيم: 257\n",
      "كورونا: 238\n",
      "تطعيم كورونا: 127\n",
      "التطعيم: 92\n",
      "اللقاح: 68\n",
      "لقاح: 56\n",
      "للتطعيم: 50\n",
      "الناس: 45\n",
      "لقاح كورونا: 34\n",
      "للتطعيم الاجباري: 31\n",
      "ضد: 27\n",
      "العالم: 24\n",
      "التطعيمات: 23\n",
      "بدون: 21\n",
      "والله: 21\n",
      "المرض: 20\n",
      "الاطفال: 18\n",
      "لماذا: 18\n",
      "اكثر: 18\n",
      "يوم: 17\n",
      "\n",
      "\n",
      "Stance: None\n",
      "تطعيم: 67\n",
      "كورونا: 63\n",
      "تطعيم كورونا: 61\n",
      "التطعيم: 21\n",
      "اللقاح: 19\n",
      "لقاح: 17\n",
      "ضد: 14\n",
      "فايزر: 12\n",
      "جرعة: 11\n",
      "جرعه: 9\n",
      "بدون: 8\n",
      "العالم: 7\n",
      "عشان: 6\n",
      "السفر: 6\n",
      "الناس: 5\n",
      "فحص: 5\n",
      "حق: 5\n",
      "يوم: 5\n",
      "اجباري: 5\n",
      "مركز: 5\n",
      "\n",
      "\n",
      "Target: Digital Transformation\n",
      "Stance: Favor\n",
      "التحول الرقمي: 248\n",
      "التحول: 155\n",
      "التحول الالكتروني: 135\n",
      "التحول الإلكتروني: 117\n",
      "التحول التقني: 93\n",
      "الالكتروني: 80\n",
      "الإلكتروني: 72\n",
      "التقني: 70\n",
      "التعليم: 56\n",
      "السعودية: 50\n",
      "الخدمات: 47\n",
      "رقمي: 44\n",
      "بشكل: 44\n",
      "المملكة: 41\n",
      "اليوم: 40\n",
      "العمل: 40\n",
      "الحكومية: 37\n",
      "التقنية: 35\n",
      "شكرا: 33\n",
      "للتحول الرقمي: 33\n",
      "\n",
      "\n",
      "Stance: Against\n",
      "التحول الرقمي: 36\n",
      "التحول الإلكتروني: 28\n",
      "التحول الالكتروني: 26\n",
      "التحول: 23\n",
      "تحول رقمي: 13\n",
      "رقمي: 12\n",
      "الإلكتروني: 11\n",
      "الخدمات: 11\n",
      "التحول التقني: 11\n",
      "الرقمي: 10\n",
      "الالكتروني: 10\n",
      "مشكلة: 9\n",
      "تحول: 9\n",
      "فى: 9\n",
      "الناس: 8\n",
      "بسبب: 8\n",
      "الإلكترونية: 7\n",
      "تكون: 7\n",
      "الحكومية: 6\n",
      "العمل: 6\n",
      "\n",
      "\n",
      "Stance: None\n",
      "التحول الرقمي: 28\n",
      "التحول: 22\n",
      "التحول الالكتروني: 19\n",
      "الإلكتروني: 18\n",
      "التحول التقني: 17\n",
      "التحول الإلكتروني: 17\n",
      "رقمي: 11\n",
      "الرقمي: 10\n",
      "الالكتروني: 10\n",
      "التعليم: 9\n",
      "تحول: 9\n",
      "التواصل: 7\n",
      "التقني: 7\n",
      "عدم: 6\n",
      "للتحول: 5\n",
      "ضمن: 5\n",
      "عام: 5\n",
      "الاعمال: 5\n",
      "بشكل: 5\n",
      "الخدمة: 5\n",
      "\n",
      "\n"
     ]
    }
   ],
   "source": [
    "from wordcloud import WordCloud\n",
    "from collections import Counter\n",
    "\n",
    "# Define the targets and stances\n",
    "targets = ['Women empowerment', 'Covid Vaccine', 'Digital Transformation']\n",
    "stances = ['Favor', 'Against', 'None']\n",
    "\n",
    "for target in targets:\n",
    "    print(f\"Target: {target}\")\n",
    "    for stance in stances:\n",
    "        print(f\"Stance: {stance}\")\n",
    "        \n",
    "        # Filter the DataFrame for the specific target and stance\n",
    "        filtered_texts = train_df[(train_df['target'] == target) & (train_df['stance'] == stance)]['text']\n",
    "        \n",
    "        # Join the texts into a single string\n",
    "        combined_text = ' '.join(filtered_texts)\n",
    "        \n",
    "        # Create a WordCloud object and generate word frequencies\n",
    "        wordcloud = WordCloud(max_words=500, stopwords=arabic_stop_words)\n",
    "        wordcloud.generate(combined_text)\n",
    "        \n",
    "        # Extract word frequencies\n",
    "        word_freq = wordcloud.process_text(combined_text)\n",
    "        \n",
    "        # Convert word frequencies to a list of tuples (word, frequency) and print them\n",
    "        word_freq_list = Counter(word_freq).most_common()\n",
    "        \n",
    "        # Print the list of word frequencies for the target and stance\n",
    "        for word, freq in word_freq_list[:20]:  # Adjust to print as many as you like\n",
    "            print(f\"{word}: {freq}\")\n",
    "        \n",
    "        print(\"\\n\")  # Newline for better readability between sections\n"
   ]
  },
  {
   "cell_type": "markdown",
   "id": "e8cf90c2",
   "metadata": {
    "papermill": {
     "duration": 0.018264,
     "end_time": "2024-03-10T18:59:15.448384",
     "exception": false,
     "start_time": "2024-03-10T18:59:15.430120",
     "status": "completed"
    },
    "tags": []
   },
   "source": [
    "# Manually Text cleaning (*Based on notice) "
   ]
  },
  {
   "cell_type": "markdown",
   "id": "da311b84",
   "metadata": {
    "papermill": {
     "duration": 0.017125,
     "end_time": "2024-03-10T18:59:15.483530",
     "exception": false,
     "start_time": "2024-03-10T18:59:15.466405",
     "status": "completed"
    },
    "tags": []
   },
   "source": [
    "## removing stopwords, normalizing, removing numbers "
   ]
  },
  {
   "cell_type": "code",
   "execution_count": 10,
   "id": "de67e077",
   "metadata": {
    "execution": {
     "iopub.execute_input": "2024-03-10T18:59:15.519488Z",
     "iopub.status.busy": "2024-03-10T18:59:15.519174Z",
     "iopub.status.idle": "2024-03-10T18:59:16.573188Z",
     "shell.execute_reply": "2024-03-10T18:59:16.571968Z"
    },
    "papermill": {
     "duration": 1.074954,
     "end_time": "2024-03-10T18:59:16.575737",
     "exception": false,
     "start_time": "2024-03-10T18:59:15.500783",
     "status": "completed"
    },
    "tags": []
   },
   "outputs": [],
   "source": [
    "\n",
    "\n",
    "def preprocess(text):\n",
    "    '''\n",
    "    text is an Arabic string input\n",
    "    the preprocessed text is returned\n",
    "    '''\n",
    "    \n",
    "\n",
    "    \n",
    "    # Remove longation\n",
    "    text = re.sub(\"[إأآا]\", \"ا\", text)\n",
    "    text = re.sub(\"ى\", \"ي\", text)\n",
    "    text = re.sub(\"ؤ\", \"ء\", text)\n",
    "    text = re.sub(\"ئ\", \"ء\", text)\n",
    "    text = re.sub(\"ة\", \"ه\", text)\n",
    "    text = re.sub(\"گ\", \"ك\", text)\n",
    "\n",
    "    # Remove Arabic stop words (assuming arabic_stop_words is defined)\n",
    "    text = ' '.join(word for word in text.split() if word not in arabic_stop_words)\n",
    "\n",
    "    # Remove numbers\n",
    "    text = re.sub(r'\\d+', '', text)\n",
    "\n",
    "    # Spell checking and correction\n",
    "   \n",
    "\n",
    "    return text\n",
    "\n",
    "train_df['text'] = train_df['text'].apply(preprocess)\n",
    "test_df['text'] = test_df['text'].apply(preprocess)\n"
   ]
  },
  {
   "cell_type": "markdown",
   "id": "f74eec3e",
   "metadata": {
    "papermill": {
     "duration": 0.017267,
     "end_time": "2024-03-10T18:59:16.610986",
     "exception": false,
     "start_time": "2024-03-10T18:59:16.593719",
     "status": "completed"
    },
    "tags": []
   },
   "source": [
    "## remove underscores and the extra spaces "
   ]
  },
  {
   "cell_type": "code",
   "execution_count": 11,
   "id": "bc7abc77",
   "metadata": {
    "execution": {
     "iopub.execute_input": "2024-03-10T18:59:16.695332Z",
     "iopub.status.busy": "2024-03-10T18:59:16.694973Z",
     "iopub.status.idle": "2024-03-10T18:59:16.807739Z",
     "shell.execute_reply": "2024-03-10T18:59:16.806839Z"
    },
    "papermill": {
     "duration": 0.138175,
     "end_time": "2024-03-10T18:59:16.809861",
     "exception": false,
     "start_time": "2024-03-10T18:59:16.671686",
     "status": "completed"
    },
    "tags": []
   },
   "outputs": [],
   "source": [
    "import re\n",
    "\n",
    "def remove_underscores_and_spaces(text):\n",
    "    # Remove underscores\n",
    "    text = text.replace(\"_\", \"\")\n",
    "    # Remove extra spaces\n",
    "    text = re.sub(r'\\s+', ' ', text)\n",
    "    # Remove one space before and after\n",
    "    text = re.sub(r'\\s+', ' ', text.strip())\n",
    "    return text\n",
    "\n",
    "\n",
    "\n",
    "train_df['text'] = train_df['text'].apply(remove_underscores_and_spaces)\n",
    "test_df['text'] = test_df['text'].apply(remove_underscores_and_spaces)\n"
   ]
  },
  {
   "cell_type": "markdown",
   "id": "a42af67e",
   "metadata": {
    "papermill": {
     "duration": 0.017775,
     "end_time": "2024-03-10T18:59:16.847003",
     "exception": false,
     "start_time": "2024-03-10T18:59:16.829228",
     "status": "completed"
    },
    "tags": []
   },
   "source": [
    "# Feature Engineering "
   ]
  },
  {
   "cell_type": "markdown",
   "id": "60369c83",
   "metadata": {
    "papermill": {
     "duration": 0.017742,
     "end_time": "2024-03-10T18:59:16.882492",
     "exception": false,
     "start_time": "2024-03-10T18:59:16.864750",
     "status": "completed"
    },
    "tags": []
   },
   "source": [
    "## Creating new features out of date colomn \n",
    "### creating a colomn for year, month, day,weekday, and time category "
   ]
  },
  {
   "cell_type": "code",
   "execution_count": 12,
   "id": "3ae5310e",
   "metadata": {
    "execution": {
     "iopub.execute_input": "2024-03-10T18:59:16.919107Z",
     "iopub.status.busy": "2024-03-10T18:59:16.918738Z",
     "iopub.status.idle": "2024-03-10T18:59:16.937852Z",
     "shell.execute_reply": "2024-03-10T18:59:16.937121Z"
    },
    "papermill": {
     "duration": 0.039683,
     "end_time": "2024-03-10T18:59:16.939890",
     "exception": false,
     "start_time": "2024-03-10T18:59:16.900207",
     "status": "completed"
    },
    "tags": []
   },
   "outputs": [],
   "source": [
    "train_df['year'] = train_df['datetime'].dt.year\n",
    "train_df['month'] = train_df['datetime'].dt.month\n",
    "train_df['day'] = train_df['datetime'].dt.day\n",
    "train_df['weekday'] = train_df['datetime'].dt.weekday\n",
    "\n",
    "test_df['year'] = test_df['datetime'].dt.year\n",
    "test_df['month'] = test_df['datetime'].dt.month\n",
    "test_df['day'] = test_df['datetime'].dt.day\n",
    "test_df['weekday'] = test_df['datetime'].dt.weekday\n",
    "\n",
    "\n",
    "def categorize_time(hour):\n",
    "    if 5 <= hour <= 11:\n",
    "        return 'Morning'\n",
    "    elif 12 <= hour <= 16:\n",
    "        return 'Afternoon'\n",
    "    elif 17 <= hour <= 20:\n",
    "        return 'Evening'\n",
    "    else: # From 21:00 to 04:59\n",
    "        return 'Night'\n",
    "# def categorize_day(day):\n",
    "#     if day in [0,1, 2, 3, 6]:  # Sunday to Thursday and Saturday\n",
    "#         return 'Weekday'\n",
    "#     else:  # Friday\n",
    "#         return 'Weekend'\n",
    "\n",
    "# # Apply the categorize_day function to create a new column for weekday or weekend\n",
    "# train_df['day_category'] = train_df['weekday'].apply(categorize_day)\n",
    "# test_df['day_category'] = test_df['weekday'].apply(categorize_day)\n",
    "\n",
    "# Extract hour from datetime\n",
    "train_df['hour'] = train_df['datetime'].dt.hour\n",
    "test_df['hour'] = test_df['datetime'].dt.hour\n",
    "\n",
    "# Apply the categorize_time function to create a new column for time category\n",
    "train_df['time_category'] = train_df['hour'].apply(categorize_time)\n",
    "test_df['time_category'] = test_df['hour'].apply(categorize_time)"
   ]
  },
  {
   "cell_type": "markdown",
   "id": "1fbfe5f7",
   "metadata": {
    "papermill": {
     "duration": 0.017439,
     "end_time": "2024-03-10T18:59:16.975083",
     "exception": false,
     "start_time": "2024-03-10T18:59:16.957644",
     "status": "completed"
    },
    "tags": []
   },
   "source": [
    "## Using arabert to create new features "
   ]
  },
  {
   "cell_type": "code",
   "execution_count": 13,
   "id": "fc082ea1",
   "metadata": {
    "execution": {
     "iopub.execute_input": "2024-03-10T18:59:17.011556Z",
     "iopub.status.busy": "2024-03-10T18:59:17.010829Z",
     "iopub.status.idle": "2024-03-10T18:59:32.612326Z",
     "shell.execute_reply": "2024-03-10T18:59:32.611054Z"
    },
    "papermill": {
     "duration": 15.622282,
     "end_time": "2024-03-10T18:59:32.614834",
     "exception": false,
     "start_time": "2024-03-10T18:59:16.992552",
     "status": "completed"
    },
    "tags": []
   },
   "outputs": [
    {
     "name": "stdout",
     "output_type": "stream",
     "text": [
      "Collecting arabert\r\n",
      "  Downloading arabert-1.0.1-py3-none-any.whl.metadata (16 kB)\r\n",
      "Requirement already satisfied: PyArabic in /opt/conda/lib/python3.10/site-packages (from arabert) (0.6.15)\r\n",
      "Requirement already satisfied: farasapy in /opt/conda/lib/python3.10/site-packages (from arabert) (0.0.14)\r\n",
      "Collecting emoji==1.4.2 (from arabert)\r\n",
      "  Downloading emoji-1.4.2.tar.gz (184 kB)\r\n",
      "\u001b[2K     \u001b[90m━━━━━━━━━━━━━━━━━━━━━━━━━━━━━━━━━━━━━━━\u001b[0m \u001b[32m185.0/185.0 kB\u001b[0m \u001b[31m1.7 MB/s\u001b[0m eta \u001b[36m0:00:00\u001b[0m\r\n",
      "\u001b[?25h  Preparing metadata (setup.py) ... \u001b[?25l-\b \bdone\r\n",
      "\u001b[?25hRequirement already satisfied: requests in /opt/conda/lib/python3.10/site-packages (from farasapy->arabert) (2.31.0)\r\n",
      "Requirement already satisfied: tqdm in /opt/conda/lib/python3.10/site-packages (from farasapy->arabert) (4.66.1)\r\n",
      "Requirement already satisfied: six>=1.14.0 in /opt/conda/lib/python3.10/site-packages (from PyArabic->arabert) (1.16.0)\r\n",
      "Requirement already satisfied: charset-normalizer<4,>=2 in /opt/conda/lib/python3.10/site-packages (from requests->farasapy->arabert) (3.3.2)\r\n",
      "Requirement already satisfied: idna<4,>=2.5 in /opt/conda/lib/python3.10/site-packages (from requests->farasapy->arabert) (3.6)\r\n",
      "Requirement already satisfied: urllib3<3,>=1.21.1 in /opt/conda/lib/python3.10/site-packages (from requests->farasapy->arabert) (1.26.18)\r\n",
      "Requirement already satisfied: certifi>=2017.4.17 in /opt/conda/lib/python3.10/site-packages (from requests->farasapy->arabert) (2024.2.2)\r\n",
      "Downloading arabert-1.0.1-py3-none-any.whl (179 kB)\r\n",
      "\u001b[2K   \u001b[90m━━━━━━━━━━━━━━━━━━━━━━━━━━━━━━━━━━━━━━━━\u001b[0m \u001b[32m179.3/179.3 kB\u001b[0m \u001b[31m6.9 MB/s\u001b[0m eta \u001b[36m0:00:00\u001b[0m\r\n",
      "\u001b[?25hBuilding wheels for collected packages: emoji\r\n",
      "  Building wheel for emoji (setup.py) ... \u001b[?25l-\b \bdone\r\n",
      "\u001b[?25h  Created wheel for emoji: filename=emoji-1.4.2-py3-none-any.whl size=186460 sha256=394b1ad592b5329bdad46922dfecd9fc540c76a5301bc65dc8f0c27e5121d4b5\r\n",
      "  Stored in directory: /root/.cache/pip/wheels/10/f0/fd/4813b1177405693e8da9cdea839f0fb64fde161380e058c827\r\n",
      "Successfully built emoji\r\n",
      "Installing collected packages: emoji, arabert\r\n",
      "  Attempting uninstall: emoji\r\n",
      "    Found existing installation: emoji 2.10.1\r\n",
      "    Uninstalling emoji-2.10.1:\r\n",
      "      Successfully uninstalled emoji-2.10.1\r\n",
      "Successfully installed arabert-1.0.1 emoji-1.4.2\r\n",
      "Note: you may need to restart the kernel to use updated packages.\n"
     ]
    }
   ],
   "source": [
    "pip install arabert"
   ]
  },
  {
   "cell_type": "markdown",
   "id": "d9b9d2f9",
   "metadata": {
    "papermill": {
     "duration": 0.019124,
     "end_time": "2024-03-10T18:59:32.654059",
     "exception": false,
     "start_time": "2024-03-10T18:59:32.634935",
     "status": "completed"
    },
    "tags": []
   },
   "source": [
    "### we used aubmindlab/bert-large-arabertv02-twitter model. This model was pretrained on a large dataset of tweets "
   ]
  },
  {
   "cell_type": "markdown",
   "id": "118ac6c5",
   "metadata": {
    "papermill": {
     "duration": 0.019142,
     "end_time": "2024-03-10T18:59:32.692184",
     "exception": false,
     "start_time": "2024-03-10T18:59:32.673042",
     "status": "completed"
    },
    "tags": []
   },
   "source": [
    "#### arabert will tokenize the text which means it will separate each words inside each cell and create an array of words \n",
    "#### then it will pass each word into the model to determine it's weight "
   ]
  },
  {
   "cell_type": "code",
   "execution_count": 14,
   "id": "5293a715",
   "metadata": {
    "execution": {
     "iopub.execute_input": "2024-03-10T18:59:32.731704Z",
     "iopub.status.busy": "2024-03-10T18:59:32.731018Z",
     "iopub.status.idle": "2024-03-10T18:59:32.736856Z",
     "shell.execute_reply": "2024-03-10T18:59:32.735999Z"
    },
    "papermill": {
     "duration": 0.027991,
     "end_time": "2024-03-10T18:59:32.738878",
     "exception": false,
     "start_time": "2024-03-10T18:59:32.710887",
     "status": "completed"
    },
    "tags": []
   },
   "outputs": [
    {
     "name": "stdout",
     "output_type": "stream",
     "text": [
      "Using device: cuda\n"
     ]
    }
   ],
   "source": [
    "import torch\n",
    "\n",
    "# Check if GPU is available and set device\n",
    "device = torch.device(\"cuda\" if torch.cuda.is_available() else \"cpu\")\n",
    "print(f'Using device: {device}')\n"
   ]
  },
  {
   "cell_type": "code",
   "execution_count": 15,
   "id": "78a8daa9",
   "metadata": {
    "execution": {
     "iopub.execute_input": "2024-03-10T18:59:32.777933Z",
     "iopub.status.busy": "2024-03-10T18:59:32.777633Z",
     "iopub.status.idle": "2024-03-10T18:59:47.808875Z",
     "shell.execute_reply": "2024-03-10T18:59:47.807695Z"
    },
    "papermill": {
     "duration": 15.054473,
     "end_time": "2024-03-10T18:59:47.812248",
     "exception": false,
     "start_time": "2024-03-10T18:59:32.757775",
     "status": "completed"
    },
    "tags": []
   },
   "outputs": [
    {
     "data": {
      "application/vnd.jupyter.widget-view+json": {
       "model_id": "22629048d2af42a2a9d2f13a52668bac",
       "version_major": 2,
       "version_minor": 0
      },
      "text/plain": [
       "tokenizer_config.json:   0%|          | 0.00/456 [00:00<?, ?B/s]"
      ]
     },
     "metadata": {},
     "output_type": "display_data"
    },
    {
     "data": {
      "application/vnd.jupyter.widget-view+json": {
       "model_id": "7279e5225b6340f1a831bea6b8a53eee",
       "version_major": 2,
       "version_minor": 0
      },
      "text/plain": [
       "vocab.txt:   0%|          | 0.00/815k [00:00<?, ?B/s]"
      ]
     },
     "metadata": {},
     "output_type": "display_data"
    },
    {
     "data": {
      "application/vnd.jupyter.widget-view+json": {
       "model_id": "fd79766d1cc54772a3d54fc4453170c4",
       "version_major": 2,
       "version_minor": 0
      },
      "text/plain": [
       "special_tokens_map.json:   0%|          | 0.00/112 [00:00<?, ?B/s]"
      ]
     },
     "metadata": {},
     "output_type": "display_data"
    },
    {
     "data": {
      "application/vnd.jupyter.widget-view+json": {
       "model_id": "dd2ba20caa14485eac40aa4863625d2b",
       "version_major": 2,
       "version_minor": 0
      },
      "text/plain": [
       "config.json:   0%|          | 0.00/702 [00:00<?, ?B/s]"
      ]
     },
     "metadata": {},
     "output_type": "display_data"
    },
    {
     "data": {
      "application/vnd.jupyter.widget-view+json": {
       "model_id": "a356a0b4156d4c1aadeb073fc9d229e8",
       "version_major": 2,
       "version_minor": 0
      },
      "text/plain": [
       "model.safetensors:   0%|          | 0.00/1.48G [00:00<?, ?B/s]"
      ]
     },
     "metadata": {},
     "output_type": "display_data"
    },
    {
     "name": "stderr",
     "output_type": "stream",
     "text": [
      "Some weights of BertModel were not initialized from the model checkpoint at aubmindlab/bert-large-arabertv02-twitter and are newly initialized: ['bert.pooler.dense.bias', 'bert.pooler.dense.weight']\n",
      "You should probably TRAIN this model on a down-stream task to be able to use it for predictions and inference.\n"
     ]
    }
   ],
   "source": [
    "from transformers import AutoTokenizer, AutoModel\n",
    "from arabert.preprocess import ArabertPreprocessor\n",
    "\n",
    "# Initialize tokenizer and model\n",
    "model_name = \"aubmindlab/bert-large-arabertv02-twitter\"\n",
    "tokenizer = AutoTokenizer.from_pretrained(model_name)\n",
    "model = AutoModel.from_pretrained(model_name).to(device)  # Move model to the selected device\n",
    "arabert_prep = ArabertPreprocessor(model_name.split(\"/\")[-1])\n",
    "\n",
    "def process_text(text):\n",
    "    preprocessed_text = arabert_prep.preprocess(text)\n",
    "    # Tokenize and prepare inputs\n",
    "    input_dict = tokenizer.encode_plus(preprocessed_text, return_tensors='pt', truncation=True, max_length=512)\n",
    "    input_ids = input_dict['input_ids'].to(device)\n",
    "    attention_mask = input_dict['attention_mask'].to(device)\n",
    "    \n",
    "    # Manual input to the model without unpacking\n",
    "    outputs = model(input_ids=input_ids, attention_mask=attention_mask)\n",
    "    \n",
    "    return outputs.last_hidden_state.mean(dim=1).detach().cpu().numpy()[0]\n"
   ]
  },
  {
   "cell_type": "markdown",
   "id": "5e22fa14",
   "metadata": {
    "papermill": {
     "duration": 0.024908,
     "end_time": "2024-03-10T18:59:47.868084",
     "exception": false,
     "start_time": "2024-03-10T18:59:47.843176",
     "status": "completed"
    },
    "tags": []
   },
   "source": [
    "### Preparing data \n",
    "#### Here we are encoding the colomn in preparation to fit "
   ]
  },
  {
   "cell_type": "code",
   "execution_count": 16,
   "id": "b00e2a3d",
   "metadata": {
    "execution": {
     "iopub.execute_input": "2024-03-10T18:59:47.925889Z",
     "iopub.status.busy": "2024-03-10T18:59:47.925189Z",
     "iopub.status.idle": "2024-03-10T18:59:47.957907Z",
     "shell.execute_reply": "2024-03-10T18:59:47.956893Z"
    },
    "papermill": {
     "duration": 0.068239,
     "end_time": "2024-03-10T18:59:47.960878",
     "exception": false,
     "start_time": "2024-03-10T18:59:47.892639",
     "status": "completed"
    },
    "tags": []
   },
   "outputs": [],
   "source": [
    "# Example of creating a one-hot encoded matrix from a categorical column\n",
    "from sklearn.preprocessing import OneHotEncoder\n",
    "\n",
    "encoder = OneHotEncoder(sparse_output=False,handle_unknown=\"ignore\")\n",
    "encoded_features = encoder.fit_transform(train_df[[\"target\",'year',\n",
    "       'month', 'day', 'weekday','time_category']])\n",
    "\n",
    "\n",
    "encoded_features_test = encoder.transform(test_df[[\"target\",'year',\n",
    "       'month', 'day', 'weekday','time_category']])\n"
   ]
  },
  {
   "cell_type": "markdown",
   "id": "1a134676",
   "metadata": {
    "papermill": {
     "duration": 0.024787,
     "end_time": "2024-03-10T18:59:48.012967",
     "exception": false,
     "start_time": "2024-03-10T18:59:47.988180",
     "status": "completed"
    },
    "tags": []
   },
   "source": [
    "#### applying word embedding function to transform the colomn \"text\" "
   ]
  },
  {
   "cell_type": "code",
   "execution_count": 17,
   "id": "8fa3fda3",
   "metadata": {
    "execution": {
     "iopub.execute_input": "2024-03-10T18:59:48.064492Z",
     "iopub.status.busy": "2024-03-10T18:59:48.063516Z",
     "iopub.status.idle": "2024-03-10T19:01:10.872266Z",
     "shell.execute_reply": "2024-03-10T19:01:10.871354Z"
    },
    "papermill": {
     "duration": 82.856823,
     "end_time": "2024-03-10T19:01:10.894516",
     "exception": false,
     "start_time": "2024-03-10T18:59:48.037693",
     "status": "completed"
    },
    "tags": []
   },
   "outputs": [
    {
     "name": "stdout",
     "output_type": "stream",
     "text": [
      "CPU times: user 1min 22s, sys: 103 ms, total: 1min 22s\n",
      "Wall time: 1min 22s\n"
     ]
    }
   ],
   "source": [
    "%%time\n",
    "# Apply get_embeddings function and store as a list\n",
    "train_df[\"text_embeddings\"] = train_df['text'].apply(process_text)\n",
    "test_df[\"text_embeddings\"] = test_df['text'].apply(process_text)\n"
   ]
  },
  {
   "cell_type": "code",
   "execution_count": 18,
   "id": "bc4c473e",
   "metadata": {
    "execution": {
     "iopub.execute_input": "2024-03-10T19:01:10.936642Z",
     "iopub.status.busy": "2024-03-10T19:01:10.936301Z",
     "iopub.status.idle": "2024-03-10T19:01:10.979888Z",
     "shell.execute_reply": "2024-03-10T19:01:10.979004Z"
    },
    "papermill": {
     "duration": 0.067116,
     "end_time": "2024-03-10T19:01:10.981782",
     "exception": false,
     "start_time": "2024-03-10T19:01:10.914666",
     "status": "completed"
    },
    "tags": []
   },
   "outputs": [],
   "source": [
    "encoded_df =pd.DataFrame(encoded_features.tolist())\n",
    "encoded_test_df = pd.DataFrame(encoded_features_test.tolist())\n"
   ]
  },
  {
   "cell_type": "code",
   "execution_count": 19,
   "id": "cafe8ce2",
   "metadata": {
    "execution": {
     "iopub.execute_input": "2024-03-10T19:01:11.025209Z",
     "iopub.status.busy": "2024-03-10T19:01:11.024525Z",
     "iopub.status.idle": "2024-03-10T19:01:11.039487Z",
     "shell.execute_reply": "2024-03-10T19:01:11.038541Z"
    },
    "papermill": {
     "duration": 0.039288,
     "end_time": "2024-03-10T19:01:11.041560",
     "exception": false,
     "start_time": "2024-03-10T19:01:11.002272",
     "status": "completed"
    },
    "tags": []
   },
   "outputs": [
    {
     "data": {
      "text/plain": [
       "0       [0.1068547, -0.19312648, -0.2511496, -0.182973...\n",
       "1       [-0.78821456, 1.0432172, 0.5160541, -1.2340125...\n",
       "2       [0.0040785354, 0.40768555, 0.261109, -0.588538...\n",
       "3       [-0.9619894, -0.05961219, -0.11911763, -0.5527...\n",
       "4       [-0.2079742, 0.035111092, -0.57427603, -0.3141...\n",
       "                              ...                        \n",
       "2796    [-0.30763376, -0.6540461, 0.24862091, -1.00148...\n",
       "2797    [-1.1883314, 0.59238577, 0.29717332, -2.042825...\n",
       "2798    [-0.039609715, -0.6230281, -0.41141, 0.4589652...\n",
       "2799    [0.1858703, 0.3457447, -0.3580231, -0.7686857,...\n",
       "2800    [-0.7264847, 0.2459366, -0.32287064, -0.999421...\n",
       "Name: text_embeddings, Length: 2801, dtype: object"
      ]
     },
     "execution_count": 19,
     "metadata": {},
     "output_type": "execute_result"
    }
   ],
   "source": [
    "train_df[\"text_embeddings\"]"
   ]
  },
  {
   "cell_type": "markdown",
   "id": "1dcf6196",
   "metadata": {
    "papermill": {
     "duration": 0.020129,
     "end_time": "2024-03-10T19:01:11.083198",
     "exception": false,
     "start_time": "2024-03-10T19:01:11.063069",
     "status": "completed"
    },
    "tags": []
   },
   "source": [
    "#"
   ]
  },
  {
   "cell_type": "markdown",
   "id": "9d8d0e3f",
   "metadata": {
    "papermill": {
     "duration": 0.020002,
     "end_time": "2024-03-10T19:01:11.123539",
     "exception": false,
     "start_time": "2024-03-10T19:01:11.103537",
     "status": "completed"
    },
    "tags": []
   },
   "source": [
    "#### transforming the colomn text embedding to match the dimension of the other features "
   ]
  },
  {
   "cell_type": "code",
   "execution_count": 20,
   "id": "84060aab",
   "metadata": {
    "execution": {
     "iopub.execute_input": "2024-03-10T19:01:11.165068Z",
     "iopub.status.busy": "2024-03-10T19:01:11.164688Z",
     "iopub.status.idle": "2024-03-10T19:01:13.156831Z",
     "shell.execute_reply": "2024-03-10T19:01:13.155727Z"
    },
    "papermill": {
     "duration": 2.015585,
     "end_time": "2024-03-10T19:01:13.158934",
     "exception": false,
     "start_time": "2024-03-10T19:01:11.143349",
     "status": "completed"
    },
    "tags": []
   },
   "outputs": [
    {
     "name": "stdout",
     "output_type": "stream",
     "text": [
      "<class 'pandas.core.frame.DataFrame'>\n",
      "RangeIndex: 2801 entries, 0 to 2800\n",
      "Columns: 1024 entries, 0 to 1023\n",
      "dtypes: float32(1024)\n",
      "memory usage: 10.9 MB\n"
     ]
    }
   ],
   "source": [
    "x_train = pd.DataFrame(train_df[\"text_embeddings\"].to_list())\n",
    "x_test = pd.DataFrame(test_df[\"text_embeddings\"].to_list())\n",
    "\n",
    "x_train.info()"
   ]
  },
  {
   "cell_type": "code",
   "execution_count": 21,
   "id": "ec6143b8",
   "metadata": {
    "execution": {
     "iopub.execute_input": "2024-03-10T19:01:13.201892Z",
     "iopub.status.busy": "2024-03-10T19:01:13.201118Z",
     "iopub.status.idle": "2024-03-10T19:01:13.232988Z",
     "shell.execute_reply": "2024-03-10T19:01:13.232095Z"
    },
    "papermill": {
     "duration": 0.055046,
     "end_time": "2024-03-10T19:01:13.235111",
     "exception": false,
     "start_time": "2024-03-10T19:01:13.180065",
     "status": "completed"
    },
    "tags": []
   },
   "outputs": [
    {
     "data": {
      "text/html": [
       "<div>\n",
       "<style scoped>\n",
       "    .dataframe tbody tr th:only-of-type {\n",
       "        vertical-align: middle;\n",
       "    }\n",
       "\n",
       "    .dataframe tbody tr th {\n",
       "        vertical-align: top;\n",
       "    }\n",
       "\n",
       "    .dataframe thead th {\n",
       "        text-align: right;\n",
       "    }\n",
       "</style>\n",
       "<table border=\"1\" class=\"dataframe\">\n",
       "  <thead>\n",
       "    <tr style=\"text-align: right;\">\n",
       "      <th></th>\n",
       "      <th>0</th>\n",
       "      <th>1</th>\n",
       "      <th>2</th>\n",
       "      <th>3</th>\n",
       "      <th>4</th>\n",
       "      <th>5</th>\n",
       "      <th>6</th>\n",
       "      <th>7</th>\n",
       "      <th>8</th>\n",
       "      <th>9</th>\n",
       "      <th>...</th>\n",
       "      <th>1014</th>\n",
       "      <th>1015</th>\n",
       "      <th>1016</th>\n",
       "      <th>1017</th>\n",
       "      <th>1018</th>\n",
       "      <th>1019</th>\n",
       "      <th>1020</th>\n",
       "      <th>1021</th>\n",
       "      <th>1022</th>\n",
       "      <th>1023</th>\n",
       "    </tr>\n",
       "  </thead>\n",
       "  <tbody>\n",
       "    <tr>\n",
       "      <th>0</th>\n",
       "      <td>0.106855</td>\n",
       "      <td>-0.193126</td>\n",
       "      <td>-0.251150</td>\n",
       "      <td>-0.182974</td>\n",
       "      <td>0.472254</td>\n",
       "      <td>-0.616335</td>\n",
       "      <td>0.208212</td>\n",
       "      <td>-0.415105</td>\n",
       "      <td>0.281338</td>\n",
       "      <td>0.277183</td>\n",
       "      <td>...</td>\n",
       "      <td>0.516456</td>\n",
       "      <td>-0.266699</td>\n",
       "      <td>-0.206646</td>\n",
       "      <td>-0.620791</td>\n",
       "      <td>-0.224734</td>\n",
       "      <td>-0.345913</td>\n",
       "      <td>0.168319</td>\n",
       "      <td>-0.240047</td>\n",
       "      <td>-0.780650</td>\n",
       "      <td>0.352006</td>\n",
       "    </tr>\n",
       "    <tr>\n",
       "      <th>1</th>\n",
       "      <td>-0.788215</td>\n",
       "      <td>1.043217</td>\n",
       "      <td>0.516054</td>\n",
       "      <td>-1.234012</td>\n",
       "      <td>0.220173</td>\n",
       "      <td>-0.502358</td>\n",
       "      <td>0.112282</td>\n",
       "      <td>0.142739</td>\n",
       "      <td>0.162531</td>\n",
       "      <td>-0.052791</td>\n",
       "      <td>...</td>\n",
       "      <td>0.026963</td>\n",
       "      <td>-0.232467</td>\n",
       "      <td>0.408184</td>\n",
       "      <td>-0.318251</td>\n",
       "      <td>-0.063151</td>\n",
       "      <td>-0.290408</td>\n",
       "      <td>0.401164</td>\n",
       "      <td>0.066080</td>\n",
       "      <td>-0.545848</td>\n",
       "      <td>0.584315</td>\n",
       "    </tr>\n",
       "    <tr>\n",
       "      <th>2</th>\n",
       "      <td>0.004079</td>\n",
       "      <td>0.407686</td>\n",
       "      <td>0.261109</td>\n",
       "      <td>-0.588539</td>\n",
       "      <td>0.436877</td>\n",
       "      <td>-0.652942</td>\n",
       "      <td>-0.173868</td>\n",
       "      <td>-0.058622</td>\n",
       "      <td>0.624503</td>\n",
       "      <td>0.041737</td>\n",
       "      <td>...</td>\n",
       "      <td>-0.027871</td>\n",
       "      <td>-0.596346</td>\n",
       "      <td>-0.033782</td>\n",
       "      <td>-0.531514</td>\n",
       "      <td>-0.050124</td>\n",
       "      <td>-0.586528</td>\n",
       "      <td>0.902456</td>\n",
       "      <td>0.189575</td>\n",
       "      <td>-1.111036</td>\n",
       "      <td>0.704313</td>\n",
       "    </tr>\n",
       "    <tr>\n",
       "      <th>3</th>\n",
       "      <td>-0.961989</td>\n",
       "      <td>-0.059612</td>\n",
       "      <td>-0.119118</td>\n",
       "      <td>-0.552742</td>\n",
       "      <td>0.481274</td>\n",
       "      <td>-0.896601</td>\n",
       "      <td>0.205529</td>\n",
       "      <td>-0.053775</td>\n",
       "      <td>0.381094</td>\n",
       "      <td>0.057546</td>\n",
       "      <td>...</td>\n",
       "      <td>0.757535</td>\n",
       "      <td>-0.365508</td>\n",
       "      <td>-0.269715</td>\n",
       "      <td>-0.351566</td>\n",
       "      <td>0.184801</td>\n",
       "      <td>-0.346462</td>\n",
       "      <td>0.202340</td>\n",
       "      <td>-0.494408</td>\n",
       "      <td>-0.467226</td>\n",
       "      <td>1.101646</td>\n",
       "    </tr>\n",
       "    <tr>\n",
       "      <th>4</th>\n",
       "      <td>-0.207974</td>\n",
       "      <td>0.035111</td>\n",
       "      <td>-0.574276</td>\n",
       "      <td>-0.314182</td>\n",
       "      <td>0.414428</td>\n",
       "      <td>-0.856389</td>\n",
       "      <td>-0.042690</td>\n",
       "      <td>-0.020028</td>\n",
       "      <td>0.194876</td>\n",
       "      <td>-0.244404</td>\n",
       "      <td>...</td>\n",
       "      <td>0.272501</td>\n",
       "      <td>0.944261</td>\n",
       "      <td>-0.254275</td>\n",
       "      <td>-0.261226</td>\n",
       "      <td>-0.156449</td>\n",
       "      <td>-0.578724</td>\n",
       "      <td>0.136818</td>\n",
       "      <td>-0.061401</td>\n",
       "      <td>-0.490294</td>\n",
       "      <td>0.329288</td>\n",
       "    </tr>\n",
       "    <tr>\n",
       "      <th>...</th>\n",
       "      <td>...</td>\n",
       "      <td>...</td>\n",
       "      <td>...</td>\n",
       "      <td>...</td>\n",
       "      <td>...</td>\n",
       "      <td>...</td>\n",
       "      <td>...</td>\n",
       "      <td>...</td>\n",
       "      <td>...</td>\n",
       "      <td>...</td>\n",
       "      <td>...</td>\n",
       "      <td>...</td>\n",
       "      <td>...</td>\n",
       "      <td>...</td>\n",
       "      <td>...</td>\n",
       "      <td>...</td>\n",
       "      <td>...</td>\n",
       "      <td>...</td>\n",
       "      <td>...</td>\n",
       "      <td>...</td>\n",
       "      <td>...</td>\n",
       "    </tr>\n",
       "    <tr>\n",
       "      <th>2796</th>\n",
       "      <td>-0.307634</td>\n",
       "      <td>-0.654046</td>\n",
       "      <td>0.248621</td>\n",
       "      <td>-1.001485</td>\n",
       "      <td>0.248587</td>\n",
       "      <td>-0.741823</td>\n",
       "      <td>-0.882085</td>\n",
       "      <td>-0.291406</td>\n",
       "      <td>0.236099</td>\n",
       "      <td>0.145753</td>\n",
       "      <td>...</td>\n",
       "      <td>0.829888</td>\n",
       "      <td>-1.543784</td>\n",
       "      <td>-0.102159</td>\n",
       "      <td>-0.564634</td>\n",
       "      <td>0.437170</td>\n",
       "      <td>-0.482652</td>\n",
       "      <td>-0.088368</td>\n",
       "      <td>-0.565369</td>\n",
       "      <td>-0.777989</td>\n",
       "      <td>0.284146</td>\n",
       "    </tr>\n",
       "    <tr>\n",
       "      <th>2797</th>\n",
       "      <td>-1.188331</td>\n",
       "      <td>0.592386</td>\n",
       "      <td>0.297173</td>\n",
       "      <td>-2.042826</td>\n",
       "      <td>0.507687</td>\n",
       "      <td>-0.241629</td>\n",
       "      <td>0.088730</td>\n",
       "      <td>-0.664920</td>\n",
       "      <td>0.575208</td>\n",
       "      <td>-0.353573</td>\n",
       "      <td>...</td>\n",
       "      <td>0.817352</td>\n",
       "      <td>-0.738178</td>\n",
       "      <td>0.201706</td>\n",
       "      <td>-0.445884</td>\n",
       "      <td>-0.023790</td>\n",
       "      <td>-0.355986</td>\n",
       "      <td>-0.416957</td>\n",
       "      <td>0.133714</td>\n",
       "      <td>-0.708532</td>\n",
       "      <td>1.175626</td>\n",
       "    </tr>\n",
       "    <tr>\n",
       "      <th>2798</th>\n",
       "      <td>-0.039610</td>\n",
       "      <td>-0.623028</td>\n",
       "      <td>-0.411410</td>\n",
       "      <td>0.458965</td>\n",
       "      <td>0.645496</td>\n",
       "      <td>-0.606095</td>\n",
       "      <td>1.121540</td>\n",
       "      <td>-0.236476</td>\n",
       "      <td>0.324455</td>\n",
       "      <td>-0.068851</td>\n",
       "      <td>...</td>\n",
       "      <td>0.527331</td>\n",
       "      <td>-0.617504</td>\n",
       "      <td>-0.019194</td>\n",
       "      <td>-0.472555</td>\n",
       "      <td>-0.421048</td>\n",
       "      <td>-0.749164</td>\n",
       "      <td>0.996952</td>\n",
       "      <td>-0.807819</td>\n",
       "      <td>-0.574572</td>\n",
       "      <td>0.650076</td>\n",
       "    </tr>\n",
       "    <tr>\n",
       "      <th>2799</th>\n",
       "      <td>0.185870</td>\n",
       "      <td>0.345745</td>\n",
       "      <td>-0.358023</td>\n",
       "      <td>-0.768686</td>\n",
       "      <td>0.075362</td>\n",
       "      <td>-0.452528</td>\n",
       "      <td>-0.619224</td>\n",
       "      <td>-0.156559</td>\n",
       "      <td>0.202115</td>\n",
       "      <td>-0.152749</td>\n",
       "      <td>...</td>\n",
       "      <td>-0.180156</td>\n",
       "      <td>-1.125131</td>\n",
       "      <td>0.008435</td>\n",
       "      <td>-0.934637</td>\n",
       "      <td>0.061508</td>\n",
       "      <td>-0.542442</td>\n",
       "      <td>-0.601013</td>\n",
       "      <td>-0.267931</td>\n",
       "      <td>-0.900326</td>\n",
       "      <td>0.253622</td>\n",
       "    </tr>\n",
       "    <tr>\n",
       "      <th>2800</th>\n",
       "      <td>-0.726485</td>\n",
       "      <td>0.245937</td>\n",
       "      <td>-0.322871</td>\n",
       "      <td>-0.999422</td>\n",
       "      <td>0.151949</td>\n",
       "      <td>-0.266551</td>\n",
       "      <td>0.119953</td>\n",
       "      <td>-0.067792</td>\n",
       "      <td>0.187961</td>\n",
       "      <td>0.024275</td>\n",
       "      <td>...</td>\n",
       "      <td>0.250109</td>\n",
       "      <td>-0.699209</td>\n",
       "      <td>-0.184706</td>\n",
       "      <td>-0.869584</td>\n",
       "      <td>0.031592</td>\n",
       "      <td>-0.185367</td>\n",
       "      <td>0.813211</td>\n",
       "      <td>-0.423034</td>\n",
       "      <td>-0.722457</td>\n",
       "      <td>0.611958</td>\n",
       "    </tr>\n",
       "  </tbody>\n",
       "</table>\n",
       "<p>2801 rows × 1024 columns</p>\n",
       "</div>"
      ],
      "text/plain": [
       "          0         1         2         3         4         5         6     \\\n",
       "0     0.106855 -0.193126 -0.251150 -0.182974  0.472254 -0.616335  0.208212   \n",
       "1    -0.788215  1.043217  0.516054 -1.234012  0.220173 -0.502358  0.112282   \n",
       "2     0.004079  0.407686  0.261109 -0.588539  0.436877 -0.652942 -0.173868   \n",
       "3    -0.961989 -0.059612 -0.119118 -0.552742  0.481274 -0.896601  0.205529   \n",
       "4    -0.207974  0.035111 -0.574276 -0.314182  0.414428 -0.856389 -0.042690   \n",
       "...        ...       ...       ...       ...       ...       ...       ...   \n",
       "2796 -0.307634 -0.654046  0.248621 -1.001485  0.248587 -0.741823 -0.882085   \n",
       "2797 -1.188331  0.592386  0.297173 -2.042826  0.507687 -0.241629  0.088730   \n",
       "2798 -0.039610 -0.623028 -0.411410  0.458965  0.645496 -0.606095  1.121540   \n",
       "2799  0.185870  0.345745 -0.358023 -0.768686  0.075362 -0.452528 -0.619224   \n",
       "2800 -0.726485  0.245937 -0.322871 -0.999422  0.151949 -0.266551  0.119953   \n",
       "\n",
       "          7         8         9     ...      1014      1015      1016  \\\n",
       "0    -0.415105  0.281338  0.277183  ...  0.516456 -0.266699 -0.206646   \n",
       "1     0.142739  0.162531 -0.052791  ...  0.026963 -0.232467  0.408184   \n",
       "2    -0.058622  0.624503  0.041737  ... -0.027871 -0.596346 -0.033782   \n",
       "3    -0.053775  0.381094  0.057546  ...  0.757535 -0.365508 -0.269715   \n",
       "4    -0.020028  0.194876 -0.244404  ...  0.272501  0.944261 -0.254275   \n",
       "...        ...       ...       ...  ...       ...       ...       ...   \n",
       "2796 -0.291406  0.236099  0.145753  ...  0.829888 -1.543784 -0.102159   \n",
       "2797 -0.664920  0.575208 -0.353573  ...  0.817352 -0.738178  0.201706   \n",
       "2798 -0.236476  0.324455 -0.068851  ...  0.527331 -0.617504 -0.019194   \n",
       "2799 -0.156559  0.202115 -0.152749  ... -0.180156 -1.125131  0.008435   \n",
       "2800 -0.067792  0.187961  0.024275  ...  0.250109 -0.699209 -0.184706   \n",
       "\n",
       "          1017      1018      1019      1020      1021      1022      1023  \n",
       "0    -0.620791 -0.224734 -0.345913  0.168319 -0.240047 -0.780650  0.352006  \n",
       "1    -0.318251 -0.063151 -0.290408  0.401164  0.066080 -0.545848  0.584315  \n",
       "2    -0.531514 -0.050124 -0.586528  0.902456  0.189575 -1.111036  0.704313  \n",
       "3    -0.351566  0.184801 -0.346462  0.202340 -0.494408 -0.467226  1.101646  \n",
       "4    -0.261226 -0.156449 -0.578724  0.136818 -0.061401 -0.490294  0.329288  \n",
       "...        ...       ...       ...       ...       ...       ...       ...  \n",
       "2796 -0.564634  0.437170 -0.482652 -0.088368 -0.565369 -0.777989  0.284146  \n",
       "2797 -0.445884 -0.023790 -0.355986 -0.416957  0.133714 -0.708532  1.175626  \n",
       "2798 -0.472555 -0.421048 -0.749164  0.996952 -0.807819 -0.574572  0.650076  \n",
       "2799 -0.934637  0.061508 -0.542442 -0.601013 -0.267931 -0.900326  0.253622  \n",
       "2800 -0.869584  0.031592 -0.185367  0.813211 -0.423034 -0.722457  0.611958  \n",
       "\n",
       "[2801 rows x 1024 columns]"
      ]
     },
     "execution_count": 21,
     "metadata": {},
     "output_type": "execute_result"
    }
   ],
   "source": [
    "x_train"
   ]
  },
  {
   "cell_type": "markdown",
   "id": "debe33de",
   "metadata": {
    "papermill": {
     "duration": 0.020562,
     "end_time": "2024-03-10T19:01:13.277761",
     "exception": false,
     "start_time": "2024-03-10T19:01:13.257199",
     "status": "completed"
    },
    "tags": []
   },
   "source": [
    "#### combining all the features "
   ]
  },
  {
   "cell_type": "code",
   "execution_count": 22,
   "id": "de82431b",
   "metadata": {
    "execution": {
     "iopub.execute_input": "2024-03-10T19:01:13.320590Z",
     "iopub.status.busy": "2024-03-10T19:01:13.319865Z",
     "iopub.status.idle": "2024-03-10T19:01:13.328395Z",
     "shell.execute_reply": "2024-03-10T19:01:13.327673Z"
    },
    "papermill": {
     "duration": 0.031864,
     "end_time": "2024-03-10T19:01:13.330198",
     "exception": false,
     "start_time": "2024-03-10T19:01:13.298334",
     "status": "completed"
    },
    "tags": []
   },
   "outputs": [],
   "source": [
    "result = pd.concat([x_train, encoded_df],axis=1)\n",
    "result_test= pd.concat([x_test, encoded_test_df],axis=1)"
   ]
  },
  {
   "cell_type": "markdown",
   "id": "9325d77f",
   "metadata": {
    "papermill": {
     "duration": 0.021072,
     "end_time": "2024-03-10T19:01:13.372918",
     "exception": false,
     "start_time": "2024-03-10T19:01:13.351846",
     "status": "completed"
    },
    "tags": []
   },
   "source": [
    "# Fitting "
   ]
  },
  {
   "cell_type": "markdown",
   "id": "39a9627a",
   "metadata": {
    "papermill": {
     "duration": 0.021465,
     "end_time": "2024-03-10T19:01:13.416052",
     "exception": false,
     "start_time": "2024-03-10T19:01:13.394587",
     "status": "completed"
    },
    "tags": []
   },
   "source": [
    "## Fitting for Sentiment "
   ]
  },
  {
   "cell_type": "code",
   "execution_count": 23,
   "id": "48909412",
   "metadata": {
    "execution": {
     "iopub.execute_input": "2024-03-10T19:01:13.459713Z",
     "iopub.status.busy": "2024-03-10T19:01:13.459437Z",
     "iopub.status.idle": "2024-03-10T19:01:16.498497Z",
     "shell.execute_reply": "2024-03-10T19:01:16.497606Z"
    },
    "papermill": {
     "duration": 3.062951,
     "end_time": "2024-03-10T19:01:16.500623",
     "exception": false,
     "start_time": "2024-03-10T19:01:13.437672",
     "status": "completed"
    },
    "tags": []
   },
   "outputs": [
    {
     "data": {
      "text/html": [
       "<style>#sk-container-id-1 {color: black;background-color: white;}#sk-container-id-1 pre{padding: 0;}#sk-container-id-1 div.sk-toggleable {background-color: white;}#sk-container-id-1 label.sk-toggleable__label {cursor: pointer;display: block;width: 100%;margin-bottom: 0;padding: 0.3em;box-sizing: border-box;text-align: center;}#sk-container-id-1 label.sk-toggleable__label-arrow:before {content: \"▸\";float: left;margin-right: 0.25em;color: #696969;}#sk-container-id-1 label.sk-toggleable__label-arrow:hover:before {color: black;}#sk-container-id-1 div.sk-estimator:hover label.sk-toggleable__label-arrow:before {color: black;}#sk-container-id-1 div.sk-toggleable__content {max-height: 0;max-width: 0;overflow: hidden;text-align: left;background-color: #f0f8ff;}#sk-container-id-1 div.sk-toggleable__content pre {margin: 0.2em;color: black;border-radius: 0.25em;background-color: #f0f8ff;}#sk-container-id-1 input.sk-toggleable__control:checked~div.sk-toggleable__content {max-height: 200px;max-width: 100%;overflow: auto;}#sk-container-id-1 input.sk-toggleable__control:checked~label.sk-toggleable__label-arrow:before {content: \"▾\";}#sk-container-id-1 div.sk-estimator input.sk-toggleable__control:checked~label.sk-toggleable__label {background-color: #d4ebff;}#sk-container-id-1 div.sk-label input.sk-toggleable__control:checked~label.sk-toggleable__label {background-color: #d4ebff;}#sk-container-id-1 input.sk-hidden--visually {border: 0;clip: rect(1px 1px 1px 1px);clip: rect(1px, 1px, 1px, 1px);height: 1px;margin: -1px;overflow: hidden;padding: 0;position: absolute;width: 1px;}#sk-container-id-1 div.sk-estimator {font-family: monospace;background-color: #f0f8ff;border: 1px dotted black;border-radius: 0.25em;box-sizing: border-box;margin-bottom: 0.5em;}#sk-container-id-1 div.sk-estimator:hover {background-color: #d4ebff;}#sk-container-id-1 div.sk-parallel-item::after {content: \"\";width: 100%;border-bottom: 1px solid gray;flex-grow: 1;}#sk-container-id-1 div.sk-label:hover label.sk-toggleable__label {background-color: #d4ebff;}#sk-container-id-1 div.sk-serial::before {content: \"\";position: absolute;border-left: 1px solid gray;box-sizing: border-box;top: 0;bottom: 0;left: 50%;z-index: 0;}#sk-container-id-1 div.sk-serial {display: flex;flex-direction: column;align-items: center;background-color: white;padding-right: 0.2em;padding-left: 0.2em;position: relative;}#sk-container-id-1 div.sk-item {position: relative;z-index: 1;}#sk-container-id-1 div.sk-parallel {display: flex;align-items: stretch;justify-content: center;background-color: white;position: relative;}#sk-container-id-1 div.sk-item::before, #sk-container-id-1 div.sk-parallel-item::before {content: \"\";position: absolute;border-left: 1px solid gray;box-sizing: border-box;top: 0;bottom: 0;left: 50%;z-index: -1;}#sk-container-id-1 div.sk-parallel-item {display: flex;flex-direction: column;z-index: 1;position: relative;background-color: white;}#sk-container-id-1 div.sk-parallel-item:first-child::after {align-self: flex-end;width: 50%;}#sk-container-id-1 div.sk-parallel-item:last-child::after {align-self: flex-start;width: 50%;}#sk-container-id-1 div.sk-parallel-item:only-child::after {width: 0;}#sk-container-id-1 div.sk-dashed-wrapped {border: 1px dashed gray;margin: 0 0.4em 0.5em 0.4em;box-sizing: border-box;padding-bottom: 0.4em;background-color: white;}#sk-container-id-1 div.sk-label label {font-family: monospace;font-weight: bold;display: inline-block;line-height: 1.2em;}#sk-container-id-1 div.sk-label-container {text-align: center;}#sk-container-id-1 div.sk-container {/* jupyter's `normalize.less` sets `[hidden] { display: none; }` but bootstrap.min.css set `[hidden] { display: none !important; }` so we also need the `!important` here to be able to override the default hidden behavior on the sphinx rendered scikit-learn.org. See: https://github.com/scikit-learn/scikit-learn/issues/21755 */display: inline-block !important;position: relative;}#sk-container-id-1 div.sk-text-repr-fallback {display: none;}</style><div id=\"sk-container-id-1\" class=\"sk-top-container\"><div class=\"sk-text-repr-fallback\"><pre>SVC()</pre><b>In a Jupyter environment, please rerun this cell to show the HTML representation or trust the notebook. <br />On GitHub, the HTML representation is unable to render, please try loading this page with nbviewer.org.</b></div><div class=\"sk-container\" hidden><div class=\"sk-item\"><div class=\"sk-estimator sk-toggleable\"><input class=\"sk-toggleable__control sk-hidden--visually\" id=\"sk-estimator-id-1\" type=\"checkbox\" checked><label for=\"sk-estimator-id-1\" class=\"sk-toggleable__label sk-toggleable__label-arrow\">SVC</label><div class=\"sk-toggleable__content\"><pre>SVC()</pre></div></div></div></div></div>"
      ],
      "text/plain": [
       "SVC()"
      ]
     },
     "execution_count": 23,
     "metadata": {},
     "output_type": "execute_result"
    }
   ],
   "source": [
    "clf_ = SVC()\n",
    "clf_.fit(result, train_df.loc[:,'sentiment'])\n"
   ]
  },
  {
   "cell_type": "code",
   "execution_count": 24,
   "id": "97988550",
   "metadata": {
    "execution": {
     "iopub.execute_input": "2024-03-10T19:01:16.544614Z",
     "iopub.status.busy": "2024-03-10T19:01:16.544243Z",
     "iopub.status.idle": "2024-03-10T19:01:17.809565Z",
     "shell.execute_reply": "2024-03-10T19:01:17.808724Z"
    },
    "papermill": {
     "duration": 1.289608,
     "end_time": "2024-03-10T19:01:17.811771",
     "exception": false,
     "start_time": "2024-03-10T19:01:16.522163",
     "status": "completed"
    },
    "tags": []
   },
   "outputs": [],
   "source": [
    "prediction_sentiment =clf_.predict(result_test)"
   ]
  },
  {
   "cell_type": "markdown",
   "id": "4fbe3eb0",
   "metadata": {
    "papermill": {
     "duration": 0.021267,
     "end_time": "2024-03-10T19:01:17.854955",
     "exception": false,
     "start_time": "2024-03-10T19:01:17.833688",
     "status": "completed"
    },
    "tags": []
   },
   "source": [
    "## Predicting Sentiment"
   ]
  },
  {
   "cell_type": "code",
   "execution_count": 25,
   "id": "aba861eb",
   "metadata": {
    "execution": {
     "iopub.execute_input": "2024-03-10T19:01:17.898183Z",
     "iopub.status.busy": "2024-03-10T19:01:17.897848Z",
     "iopub.status.idle": "2024-03-10T19:01:17.906433Z",
     "shell.execute_reply": "2024-03-10T19:01:17.905611Z"
    },
    "papermill": {
     "duration": 0.032738,
     "end_time": "2024-03-10T19:01:17.908589",
     "exception": false,
     "start_time": "2024-03-10T19:01:17.875851",
     "status": "completed"
    },
    "tags": []
   },
   "outputs": [
    {
     "data": {
      "text/plain": [
       "array(['Positive', 'Neutral', 'Neutral', 'Neutral', 'Positive',\n",
       "       'Negative', 'Neutral', 'Neutral', 'Positive', 'Positive',\n",
       "       'Neutral', 'Neutral', 'Positive', 'Neutral', 'Positive', 'Neutral',\n",
       "       'Neutral', 'Neutral', 'Positive', 'Positive', 'Positive',\n",
       "       'Neutral', 'Positive', 'Neutral', 'Positive', 'Positive',\n",
       "       'Negative', 'Positive', 'Positive', 'Neutral', 'Neutral',\n",
       "       'Neutral', 'Neutral', 'Positive', 'Positive', 'Negative',\n",
       "       'Positive', 'Positive', 'Positive', 'Neutral', 'Positive',\n",
       "       'Positive', 'Positive', 'Positive', 'Positive', 'Neutral',\n",
       "       'Neutral', 'Positive', 'Negative', 'Positive', 'Neutral',\n",
       "       'Positive', 'Positive', 'Positive', 'Negative', 'Neutral',\n",
       "       'Positive', 'Neutral', 'Positive', 'Positive', 'Negative',\n",
       "       'Positive', 'Positive', 'Negative', 'Positive', 'Positive',\n",
       "       'Negative', 'Neutral', 'Negative', 'Neutral', 'Negative',\n",
       "       'Positive', 'Negative', 'Positive', 'Neutral', 'Positive',\n",
       "       'Negative', 'Positive', 'Negative', 'Positive', 'Positive',\n",
       "       'Neutral', 'Positive', 'Positive', 'Negative', 'Positive',\n",
       "       'Negative', 'Negative', 'Neutral', 'Positive', 'Neutral',\n",
       "       'Negative', 'Negative', 'Positive', 'Negative', 'Positive',\n",
       "       'Neutral', 'Neutral', 'Positive', 'Neutral', 'Positive',\n",
       "       'Negative', 'Positive', 'Neutral', 'Positive', 'Neutral',\n",
       "       'Positive', 'Negative', 'Positive', 'Positive', 'Positive',\n",
       "       'Positive', 'Neutral', 'Positive', 'Positive', 'Neutral',\n",
       "       'Neutral', 'Neutral', 'Negative', 'Positive', 'Negative',\n",
       "       'Negative', 'Positive', 'Neutral', 'Negative', 'Positive',\n",
       "       'Negative', 'Negative', 'Negative', 'Neutral', 'Negative',\n",
       "       'Positive', 'Positive', 'Positive', 'Neutral', 'Positive',\n",
       "       'Neutral', 'Positive', 'Positive', 'Positive', 'Positive',\n",
       "       'Neutral', 'Neutral', 'Negative', 'Positive', 'Positive',\n",
       "       'Neutral', 'Neutral', 'Positive', 'Positive', 'Neutral',\n",
       "       'Positive', 'Negative', 'Positive', 'Positive', 'Positive',\n",
       "       'Negative', 'Positive', 'Positive', 'Positive', 'Neutral',\n",
       "       'Neutral', 'Positive', 'Negative', 'Neutral', 'Negative',\n",
       "       'Positive', 'Neutral', 'Positive', 'Negative', 'Negative',\n",
       "       'Negative', 'Positive', 'Positive', 'Positive', 'Neutral',\n",
       "       'Neutral', 'Positive', 'Positive', 'Positive', 'Neutral',\n",
       "       'Positive', 'Positive', 'Negative', 'Neutral', 'Negative',\n",
       "       'Positive', 'Negative', 'Negative', 'Neutral', 'Positive',\n",
       "       'Positive', 'Positive', 'Positive', 'Positive', 'Negative',\n",
       "       'Positive', 'Positive', 'Positive', 'Positive', 'Positive',\n",
       "       'Positive', 'Positive', 'Positive', 'Positive', 'Neutral',\n",
       "       'Positive', 'Positive', 'Positive', 'Negative', 'Positive',\n",
       "       'Neutral', 'Neutral', 'Positive', 'Positive', 'Neutral', 'Neutral',\n",
       "       'Negative', 'Positive', 'Positive', 'Positive', 'Positive',\n",
       "       'Neutral', 'Positive', 'Negative', 'Neutral', 'Negative',\n",
       "       'Negative', 'Negative', 'Negative', 'Neutral', 'Positive',\n",
       "       'Positive', 'Positive', 'Positive', 'Positive', 'Negative',\n",
       "       'Positive', 'Neutral', 'Positive', 'Negative', 'Negative',\n",
       "       'Positive', 'Neutral', 'Positive', 'Neutral', 'Negative',\n",
       "       'Positive', 'Neutral', 'Neutral', 'Positive', 'Positive',\n",
       "       'Positive', 'Positive', 'Negative', 'Positive', 'Positive',\n",
       "       'Positive', 'Neutral', 'Positive', 'Positive', 'Neutral',\n",
       "       'Neutral', 'Positive', 'Neutral', 'Positive', 'Neutral',\n",
       "       'Positive', 'Negative', 'Neutral', 'Positive', 'Neutral',\n",
       "       'Neutral', 'Negative', 'Positive', 'Positive', 'Neutral',\n",
       "       'Negative', 'Positive', 'Neutral', 'Neutral', 'Neutral', 'Neutral',\n",
       "       'Negative', 'Positive', 'Positive', 'Neutral', 'Positive',\n",
       "       'Positive', 'Positive', 'Positive', 'Negative', 'Neutral',\n",
       "       'Negative', 'Positive', 'Positive', 'Neutral', 'Negative',\n",
       "       'Negative', 'Positive', 'Positive', 'Positive', 'Neutral',\n",
       "       'Negative', 'Negative', 'Negative', 'Positive', 'Positive',\n",
       "       'Neutral', 'Negative', 'Negative', 'Neutral', 'Negative',\n",
       "       'Neutral', 'Positive', 'Positive', 'Positive', 'Neutral',\n",
       "       'Neutral', 'Neutral', 'Positive', 'Negative', 'Neutral',\n",
       "       'Positive', 'Positive', 'Neutral', 'Negative', 'Negative',\n",
       "       'Positive', 'Positive', 'Negative', 'Neutral', 'Positive',\n",
       "       'Positive', 'Positive', 'Neutral', 'Positive', 'Positive',\n",
       "       'Neutral', 'Positive', 'Positive', 'Neutral', 'Negative',\n",
       "       'Positive', 'Negative', 'Neutral', 'Positive', 'Positive',\n",
       "       'Negative', 'Negative', 'Neutral', 'Negative', 'Positive',\n",
       "       'Neutral', 'Neutral', 'Positive', 'Positive', 'Positive',\n",
       "       'Negative', 'Negative', 'Positive', 'Neutral', 'Positive',\n",
       "       'Negative', 'Neutral', 'Positive', 'Negative', 'Negative',\n",
       "       'Neutral', 'Positive', 'Neutral', 'Negative', 'Neutral',\n",
       "       'Positive', 'Neutral', 'Positive', 'Neutral', 'Neutral', 'Neutral',\n",
       "       'Neutral', 'Neutral', 'Neutral', 'Positive', 'Neutral', 'Negative',\n",
       "       'Positive', 'Positive', 'Positive', 'Neutral', 'Neutral',\n",
       "       'Negative', 'Positive', 'Negative', 'Neutral', 'Neutral',\n",
       "       'Neutral', 'Positive', 'Neutral', 'Positive', 'Neutral',\n",
       "       'Negative', 'Positive', 'Positive', 'Positive', 'Negative',\n",
       "       'Neutral', 'Negative', 'Positive', 'Neutral', 'Positive',\n",
       "       'Neutral', 'Positive', 'Positive', 'Positive', 'Negative',\n",
       "       'Positive', 'Positive', 'Positive', 'Negative', 'Neutral',\n",
       "       'Negative', 'Neutral', 'Neutral', 'Neutral', 'Positive',\n",
       "       'Positive', 'Neutral', 'Positive', 'Neutral', 'Positive',\n",
       "       'Neutral', 'Negative', 'Positive', 'Positive', 'Neutral',\n",
       "       'Positive', 'Negative', 'Neutral', 'Positive', 'Positive',\n",
       "       'Neutral', 'Negative', 'Neutral', 'Neutral', 'Neutral', 'Positive',\n",
       "       'Positive', 'Neutral', 'Neutral', 'Neutral', 'Negative',\n",
       "       'Positive', 'Negative', 'Positive', 'Positive', 'Neutral',\n",
       "       'Negative', 'Neutral', 'Positive', 'Positive', 'Neutral',\n",
       "       'Positive', 'Positive', 'Positive', 'Positive', 'Neutral',\n",
       "       'Negative', 'Positive', 'Neutral', 'Positive', 'Negative',\n",
       "       'Positive', 'Positive', 'Negative', 'Positive', 'Positive',\n",
       "       'Neutral', 'Negative', 'Positive', 'Neutral', 'Positive',\n",
       "       'Positive', 'Neutral', 'Negative', 'Negative', 'Negative',\n",
       "       'Negative', 'Neutral', 'Positive', 'Positive', 'Neutral',\n",
       "       'Positive', 'Positive', 'Neutral', 'Neutral', 'Neutral',\n",
       "       'Negative', 'Negative', 'Neutral', 'Positive', 'Neutral',\n",
       "       'Positive', 'Negative', 'Neutral', 'Positive', 'Positive',\n",
       "       'Positive', 'Positive', 'Negative', 'Positive', 'Negative',\n",
       "       'Neutral', 'Positive', 'Neutral', 'Neutral', 'Negative', 'Neutral',\n",
       "       'Positive', 'Positive', 'Positive', 'Positive', 'Negative',\n",
       "       'Positive', 'Neutral', 'Neutral', 'Neutral', 'Neutral', 'Neutral',\n",
       "       'Negative', 'Positive', 'Neutral', 'Positive', 'Positive',\n",
       "       'Positive', 'Neutral', 'Positive', 'Neutral', 'Negative',\n",
       "       'Positive', 'Neutral', 'Neutral', 'Neutral', 'Neutral', 'Positive',\n",
       "       'Negative', 'Neutral', 'Negative', 'Neutral', 'Negative',\n",
       "       'Positive', 'Neutral', 'Neutral', 'Neutral', 'Positive',\n",
       "       'Positive', 'Neutral', 'Negative', 'Negative', 'Positive',\n",
       "       'Neutral', 'Positive', 'Positive', 'Neutral', 'Positive',\n",
       "       'Positive', 'Positive', 'Negative', 'Positive', 'Negative',\n",
       "       'Neutral', 'Positive', 'Positive', 'Positive', 'Positive',\n",
       "       'Positive', 'Negative', 'Negative', 'Negative', 'Negative',\n",
       "       'Neutral', 'Positive', 'Positive', 'Positive', 'Neutral',\n",
       "       'Neutral', 'Positive', 'Neutral', 'Positive', 'Neutral',\n",
       "       'Positive', 'Positive', 'Positive', 'Neutral', 'Positive',\n",
       "       'Positive', 'Neutral', 'Negative', 'Negative', 'Positive',\n",
       "       'Negative', 'Positive', 'Positive', 'Negative', 'Positive',\n",
       "       'Neutral', 'Positive', 'Negative', 'Positive', 'Neutral',\n",
       "       'Positive', 'Neutral', 'Positive', 'Positive', 'Negative',\n",
       "       'Negative', 'Positive', 'Positive', 'Negative', 'Positive',\n",
       "       'Positive', 'Negative', 'Negative', 'Positive', 'Neutral',\n",
       "       'Negative', 'Positive', 'Positive', 'Positive', 'Neutral',\n",
       "       'Positive', 'Neutral', 'Positive', 'Negative', 'Negative',\n",
       "       'Positive', 'Positive', 'Neutral', 'Positive', 'Positive',\n",
       "       'Positive', 'Negative', 'Negative', 'Positive', 'Positive',\n",
       "       'Neutral', 'Positive', 'Positive', 'Negative', 'Neutral',\n",
       "       'Neutral', 'Neutral', 'Positive', 'Positive', 'Positive',\n",
       "       'Positive', 'Positive', 'Positive', 'Negative', 'Negative',\n",
       "       'Neutral', 'Positive', 'Neutral', 'Neutral', 'Neutral', 'Negative',\n",
       "       'Neutral', 'Neutral', 'Negative', 'Negative', 'Positive',\n",
       "       'Positive', 'Positive', 'Neutral', 'Positive', 'Neutral',\n",
       "       'Neutral', 'Negative', 'Neutral', 'Negative', 'Positive',\n",
       "       'Neutral', 'Neutral', 'Positive', 'Neutral', 'Neutral', 'Negative',\n",
       "       'Neutral', 'Negative', 'Positive', 'Positive', 'Neutral',\n",
       "       'Neutral', 'Neutral', 'Positive', 'Positive', 'Neutral',\n",
       "       'Positive', 'Negative', 'Positive', 'Negative', 'Neutral'],\n",
       "      dtype=object)"
      ]
     },
     "execution_count": 25,
     "metadata": {},
     "output_type": "execute_result"
    }
   ],
   "source": [
    "prediction_sentiment"
   ]
  },
  {
   "cell_type": "markdown",
   "id": "87275432",
   "metadata": {
    "papermill": {
     "duration": 0.02124,
     "end_time": "2024-03-10T19:01:17.951323",
     "exception": false,
     "start_time": "2024-03-10T19:01:17.930083",
     "status": "completed"
    },
    "tags": []
   },
   "source": [
    "## Appending sentiment"
   ]
  },
  {
   "cell_type": "code",
   "execution_count": 26,
   "id": "00f01a21",
   "metadata": {
    "execution": {
     "iopub.execute_input": "2024-03-10T19:01:17.995438Z",
     "iopub.status.busy": "2024-03-10T19:01:17.995134Z",
     "iopub.status.idle": "2024-03-10T19:01:17.999814Z",
     "shell.execute_reply": "2024-03-10T19:01:17.998959Z"
    },
    "papermill": {
     "duration": 0.028996,
     "end_time": "2024-03-10T19:01:18.001704",
     "exception": false,
     "start_time": "2024-03-10T19:01:17.972708",
     "status": "completed"
    },
    "tags": []
   },
   "outputs": [],
   "source": [
    "test_df['sentiment'] = prediction_sentiment"
   ]
  },
  {
   "cell_type": "markdown",
   "id": "080dc913",
   "metadata": {
    "papermill": {
     "duration": 0.020714,
     "end_time": "2024-03-10T19:01:18.044262",
     "exception": false,
     "start_time": "2024-03-10T19:01:18.023548",
     "status": "completed"
    },
    "tags": []
   },
   "source": [
    "## preparing to fit for stance"
   ]
  },
  {
   "cell_type": "markdown",
   "id": "022ef12f",
   "metadata": {
    "papermill": {
     "duration": 0.020939,
     "end_time": "2024-03-10T19:01:18.086089",
     "exception": false,
     "start_time": "2024-03-10T19:01:18.065150",
     "status": "completed"
    },
    "tags": []
   },
   "source": [
    "### adding sentiment as a new feature to predict stance "
   ]
  },
  {
   "cell_type": "code",
   "execution_count": 27,
   "id": "130b05aa",
   "metadata": {
    "execution": {
     "iopub.execute_input": "2024-03-10T19:01:18.133072Z",
     "iopub.status.busy": "2024-03-10T19:01:18.132170Z",
     "iopub.status.idle": "2024-03-10T19:01:18.143677Z",
     "shell.execute_reply": "2024-03-10T19:01:18.142656Z"
    },
    "papermill": {
     "duration": 0.037736,
     "end_time": "2024-03-10T19:01:18.145914",
     "exception": false,
     "start_time": "2024-03-10T19:01:18.108178",
     "status": "completed"
    },
    "tags": []
   },
   "outputs": [],
   "source": [
    "encoder = OneHotEncoder(sparse_output=False,handle_unknown=\"ignore\")\n",
    "encoded_features = encoder.fit_transform(train_df[['sentiment']])\n",
    "\n",
    "\n",
    "encoded_features_test = encoder.transform(test_df[['sentiment']])"
   ]
  },
  {
   "cell_type": "code",
   "execution_count": 28,
   "id": "af24d1f7",
   "metadata": {
    "execution": {
     "iopub.execute_input": "2024-03-10T19:01:18.194726Z",
     "iopub.status.busy": "2024-03-10T19:01:18.193940Z",
     "iopub.status.idle": "2024-03-10T19:01:18.203135Z",
     "shell.execute_reply": "2024-03-10T19:01:18.202288Z"
    },
    "papermill": {
     "duration": 0.035081,
     "end_time": "2024-03-10T19:01:18.205196",
     "exception": false,
     "start_time": "2024-03-10T19:01:18.170115",
     "status": "completed"
    },
    "tags": []
   },
   "outputs": [],
   "source": [
    "result = pd.concat([result, encoded_df],axis=1)\n",
    "result_test= pd.concat([result_test, encoded_test_df],axis=1)"
   ]
  },
  {
   "cell_type": "code",
   "execution_count": 29,
   "id": "fef630fc",
   "metadata": {
    "execution": {
     "iopub.execute_input": "2024-03-10T19:01:18.252321Z",
     "iopub.status.busy": "2024-03-10T19:01:18.252040Z",
     "iopub.status.idle": "2024-03-10T19:01:18.256238Z",
     "shell.execute_reply": "2024-03-10T19:01:18.255315Z"
    },
    "papermill": {
     "duration": 0.030078,
     "end_time": "2024-03-10T19:01:18.258229",
     "exception": false,
     "start_time": "2024-03-10T19:01:18.228151",
     "status": "completed"
    },
    "tags": []
   },
   "outputs": [],
   "source": [
    "clf_stance = MLPClassifier(max_iter=10000,random_state=194)"
   ]
  },
  {
   "cell_type": "code",
   "execution_count": 30,
   "id": "ab36ffc7",
   "metadata": {
    "execution": {
     "iopub.execute_input": "2024-03-10T19:01:18.308097Z",
     "iopub.status.busy": "2024-03-10T19:01:18.307746Z",
     "iopub.status.idle": "2024-03-10T19:01:37.501323Z",
     "shell.execute_reply": "2024-03-10T19:01:37.499777Z"
    },
    "papermill": {
     "duration": 19.22364,
     "end_time": "2024-03-10T19:01:37.505917",
     "exception": false,
     "start_time": "2024-03-10T19:01:18.282277",
     "status": "completed"
    },
    "tags": []
   },
   "outputs": [
    {
     "data": {
      "text/html": [
       "<style>#sk-container-id-2 {color: black;background-color: white;}#sk-container-id-2 pre{padding: 0;}#sk-container-id-2 div.sk-toggleable {background-color: white;}#sk-container-id-2 label.sk-toggleable__label {cursor: pointer;display: block;width: 100%;margin-bottom: 0;padding: 0.3em;box-sizing: border-box;text-align: center;}#sk-container-id-2 label.sk-toggleable__label-arrow:before {content: \"▸\";float: left;margin-right: 0.25em;color: #696969;}#sk-container-id-2 label.sk-toggleable__label-arrow:hover:before {color: black;}#sk-container-id-2 div.sk-estimator:hover label.sk-toggleable__label-arrow:before {color: black;}#sk-container-id-2 div.sk-toggleable__content {max-height: 0;max-width: 0;overflow: hidden;text-align: left;background-color: #f0f8ff;}#sk-container-id-2 div.sk-toggleable__content pre {margin: 0.2em;color: black;border-radius: 0.25em;background-color: #f0f8ff;}#sk-container-id-2 input.sk-toggleable__control:checked~div.sk-toggleable__content {max-height: 200px;max-width: 100%;overflow: auto;}#sk-container-id-2 input.sk-toggleable__control:checked~label.sk-toggleable__label-arrow:before {content: \"▾\";}#sk-container-id-2 div.sk-estimator input.sk-toggleable__control:checked~label.sk-toggleable__label {background-color: #d4ebff;}#sk-container-id-2 div.sk-label input.sk-toggleable__control:checked~label.sk-toggleable__label {background-color: #d4ebff;}#sk-container-id-2 input.sk-hidden--visually {border: 0;clip: rect(1px 1px 1px 1px);clip: rect(1px, 1px, 1px, 1px);height: 1px;margin: -1px;overflow: hidden;padding: 0;position: absolute;width: 1px;}#sk-container-id-2 div.sk-estimator {font-family: monospace;background-color: #f0f8ff;border: 1px dotted black;border-radius: 0.25em;box-sizing: border-box;margin-bottom: 0.5em;}#sk-container-id-2 div.sk-estimator:hover {background-color: #d4ebff;}#sk-container-id-2 div.sk-parallel-item::after {content: \"\";width: 100%;border-bottom: 1px solid gray;flex-grow: 1;}#sk-container-id-2 div.sk-label:hover label.sk-toggleable__label {background-color: #d4ebff;}#sk-container-id-2 div.sk-serial::before {content: \"\";position: absolute;border-left: 1px solid gray;box-sizing: border-box;top: 0;bottom: 0;left: 50%;z-index: 0;}#sk-container-id-2 div.sk-serial {display: flex;flex-direction: column;align-items: center;background-color: white;padding-right: 0.2em;padding-left: 0.2em;position: relative;}#sk-container-id-2 div.sk-item {position: relative;z-index: 1;}#sk-container-id-2 div.sk-parallel {display: flex;align-items: stretch;justify-content: center;background-color: white;position: relative;}#sk-container-id-2 div.sk-item::before, #sk-container-id-2 div.sk-parallel-item::before {content: \"\";position: absolute;border-left: 1px solid gray;box-sizing: border-box;top: 0;bottom: 0;left: 50%;z-index: -1;}#sk-container-id-2 div.sk-parallel-item {display: flex;flex-direction: column;z-index: 1;position: relative;background-color: white;}#sk-container-id-2 div.sk-parallel-item:first-child::after {align-self: flex-end;width: 50%;}#sk-container-id-2 div.sk-parallel-item:last-child::after {align-self: flex-start;width: 50%;}#sk-container-id-2 div.sk-parallel-item:only-child::after {width: 0;}#sk-container-id-2 div.sk-dashed-wrapped {border: 1px dashed gray;margin: 0 0.4em 0.5em 0.4em;box-sizing: border-box;padding-bottom: 0.4em;background-color: white;}#sk-container-id-2 div.sk-label label {font-family: monospace;font-weight: bold;display: inline-block;line-height: 1.2em;}#sk-container-id-2 div.sk-label-container {text-align: center;}#sk-container-id-2 div.sk-container {/* jupyter's `normalize.less` sets `[hidden] { display: none; }` but bootstrap.min.css set `[hidden] { display: none !important; }` so we also need the `!important` here to be able to override the default hidden behavior on the sphinx rendered scikit-learn.org. See: https://github.com/scikit-learn/scikit-learn/issues/21755 */display: inline-block !important;position: relative;}#sk-container-id-2 div.sk-text-repr-fallback {display: none;}</style><div id=\"sk-container-id-2\" class=\"sk-top-container\"><div class=\"sk-text-repr-fallback\"><pre>MLPClassifier(max_iter=10000, random_state=194)</pre><b>In a Jupyter environment, please rerun this cell to show the HTML representation or trust the notebook. <br />On GitHub, the HTML representation is unable to render, please try loading this page with nbviewer.org.</b></div><div class=\"sk-container\" hidden><div class=\"sk-item\"><div class=\"sk-estimator sk-toggleable\"><input class=\"sk-toggleable__control sk-hidden--visually\" id=\"sk-estimator-id-2\" type=\"checkbox\" checked><label for=\"sk-estimator-id-2\" class=\"sk-toggleable__label sk-toggleable__label-arrow\">MLPClassifier</label><div class=\"sk-toggleable__content\"><pre>MLPClassifier(max_iter=10000, random_state=194)</pre></div></div></div></div></div>"
      ],
      "text/plain": [
       "MLPClassifier(max_iter=10000, random_state=194)"
      ]
     },
     "execution_count": 30,
     "metadata": {},
     "output_type": "execute_result"
    }
   ],
   "source": [
    "clf_stance.fit(result, train_df.loc[:,'stance'])"
   ]
  },
  {
   "cell_type": "code",
   "execution_count": 31,
   "id": "56e89e52",
   "metadata": {
    "execution": {
     "iopub.execute_input": "2024-03-10T19:01:37.622914Z",
     "iopub.status.busy": "2024-03-10T19:01:37.622512Z",
     "iopub.status.idle": "2024-03-10T19:01:37.673745Z",
     "shell.execute_reply": "2024-03-10T19:01:37.672230Z"
    },
    "papermill": {
     "duration": 0.111444,
     "end_time": "2024-03-10T19:01:37.677162",
     "exception": false,
     "start_time": "2024-03-10T19:01:37.565718",
     "status": "completed"
    },
    "tags": []
   },
   "outputs": [],
   "source": [
    "prediction_stance = clf_stance.predict (result_test)"
   ]
  },
  {
   "cell_type": "code",
   "execution_count": 32,
   "id": "b1a64db0",
   "metadata": {
    "execution": {
     "iopub.execute_input": "2024-03-10T19:01:37.773319Z",
     "iopub.status.busy": "2024-03-10T19:01:37.772764Z",
     "iopub.status.idle": "2024-03-10T19:01:37.787960Z",
     "shell.execute_reply": "2024-03-10T19:01:37.786796Z"
    },
    "papermill": {
     "duration": 0.066808,
     "end_time": "2024-03-10T19:01:37.791032",
     "exception": false,
     "start_time": "2024-03-10T19:01:37.724224",
     "status": "completed"
    },
    "tags": []
   },
   "outputs": [
    {
     "data": {
      "text/plain": [
       "array(['Favor', 'Against', 'Favor', 'None', 'Favor', 'Against', 'None',\n",
       "       'Favor', 'Favor', 'Favor', 'Favor', 'Against', 'Favor', 'Favor',\n",
       "       'Favor', 'Favor', 'Favor', 'Against', 'Favor', 'Favor', 'Favor',\n",
       "       'None', 'Favor', 'Against', 'Favor', 'Against', 'None', 'Favor',\n",
       "       'Favor', 'Favor', 'Against', 'Against', 'Against', 'Favor',\n",
       "       'Favor', 'Against', 'Favor', 'Favor', 'Favor', 'Against', 'Favor',\n",
       "       'Favor', 'Favor', 'Favor', 'Favor', 'Against', 'Against', 'Favor',\n",
       "       'Against', 'Favor', 'Against', 'Favor', 'Favor', 'Favor',\n",
       "       'Against', 'Against', 'Favor', 'Favor', 'Favor', 'Against',\n",
       "       'Favor', 'Favor', 'Favor', 'Against', 'Favor', 'Favor', 'Favor',\n",
       "       'Favor', 'Against', 'None', 'Against', 'Favor', 'Against', 'Favor',\n",
       "       'Favor', 'Favor', 'Favor', 'Favor', 'Favor', 'Favor', 'Favor',\n",
       "       'Against', 'Favor', 'Favor', 'Against', 'Against', 'Favor',\n",
       "       'Favor', 'Favor', 'Favor', 'Favor', 'Against', 'Against', 'Favor',\n",
       "       'Against', 'Favor', 'Against', 'Against', 'Favor', 'Favor',\n",
       "       'Favor', 'Against', 'Favor', 'Favor', 'Favor', 'Against', 'Favor',\n",
       "       'Against', 'Favor', 'Favor', 'Favor', 'Favor', 'Favor', 'Favor',\n",
       "       'Favor', 'Against', 'Favor', 'None', 'Against', 'None', 'Against',\n",
       "       'Against', 'None', 'Against', 'Against', 'Favor', 'Favor',\n",
       "       'Against', 'Against', 'Favor', 'Favor', 'Favor', 'Favor', 'Favor',\n",
       "       'None', 'Favor', 'Against', 'None', 'Favor', 'Favor', 'Favor',\n",
       "       'Against', 'Against', 'Against', 'Favor', 'Favor', 'Against',\n",
       "       'Against', 'Favor', 'Favor', 'Against', 'Favor', 'Favor', 'Favor',\n",
       "       'Favor', 'Favor', 'Favor', 'Against', 'Favor', 'Favor', 'Favor',\n",
       "       'Against', 'Favor', 'Favor', 'Favor', 'Favor', 'Favor', 'Against',\n",
       "       'Favor', 'Against', 'Favor', 'Favor', 'Favor', 'Favor', 'Favor',\n",
       "       'None', 'Against', 'Favor', 'Favor', 'Favor', 'Against', 'Favor',\n",
       "       'Favor', 'Against', 'None', 'Favor', 'Favor', 'Favor', 'Against',\n",
       "       'Against', 'Favor', 'Favor', 'Favor', 'Favor', 'Favor', 'Against',\n",
       "       'Favor', 'Favor', 'Favor', 'Favor', 'Favor', 'Favor', 'Favor',\n",
       "       'Favor', 'Favor', 'Against', 'Against', 'Favor', 'Favor',\n",
       "       'Against', 'Favor', 'Against', 'Against', 'Favor', 'Favor',\n",
       "       'Against', 'None', 'Favor', 'Favor', 'Favor', 'Favor', 'Favor',\n",
       "       'Favor', 'Against', 'Against', 'Favor', 'None', 'Favor', 'Against',\n",
       "       'Against', 'Favor', 'Favor', 'Favor', 'Favor', 'Favor', 'Favor',\n",
       "       'Against', 'Favor', 'Favor', 'Favor', 'Against', 'Against',\n",
       "       'Favor', 'Favor', 'Favor', 'Favor', 'Against', 'None', 'Favor',\n",
       "       'Favor', 'Favor', 'Favor', 'Favor', 'Against', 'Favor', 'Favor',\n",
       "       'Favor', 'Favor', 'Favor', 'Favor', 'Favor', 'Favor', 'None',\n",
       "       'Favor', 'None', 'Favor', 'Favor', 'Favor', 'Against', 'Favor',\n",
       "       'Favor', 'Favor', 'Against', 'Favor', 'Favor', 'Favor', 'Favor',\n",
       "       'Against', 'Favor', 'Against', 'Against', 'Favor', 'Favor',\n",
       "       'Favor', 'Favor', 'Favor', 'Favor', 'Favor', 'Favor', 'Favor',\n",
       "       'Favor', 'Against', 'None', 'Against', 'Favor', 'Favor', 'Against',\n",
       "       'Against', 'Favor', 'Favor', 'Favor', 'Favor', 'Against', 'Favor',\n",
       "       'Favor', 'Against', 'Favor', 'Favor', 'Favor', 'Against', 'Favor',\n",
       "       'Against', 'Against', 'Against', 'Favor', 'Favor', 'Favor',\n",
       "       'Favor', 'Against', 'Against', 'Favor', 'Against', 'None', 'Favor',\n",
       "       'Favor', 'Against', 'Against', 'Favor', 'Favor', 'Favor', 'Favor',\n",
       "       'None', 'Favor', 'Favor', 'Favor', 'Against', 'Favor', 'Favor',\n",
       "       'Against', 'Favor', 'Favor', 'Favor', 'Favor', 'Favor', 'Against',\n",
       "       'Favor', 'Favor', 'Favor', 'Favor', 'Against', 'Favor', 'Against',\n",
       "       'Favor', 'Favor', 'Favor', 'None', 'Favor', 'Favor', 'Against',\n",
       "       'Against', 'Favor', 'None', 'Favor', 'Favor', 'Favor', 'Against',\n",
       "       'Against', 'None', 'None', 'Favor', 'Favor', 'Against', 'Favor',\n",
       "       'Favor', 'Favor', 'Favor', 'Favor', 'Favor', 'Favor', 'Against',\n",
       "       'Favor', 'None', 'Favor', 'Favor', 'Against', 'Favor', 'Favor',\n",
       "       'Favor', 'Favor', 'Favor', 'Against', 'Against', 'None', 'Favor',\n",
       "       'Favor', 'Against', 'Favor', 'Favor', 'Favor', 'Favor', 'Against',\n",
       "       'Favor', 'Favor', 'Favor', 'Against', 'Against', 'Against',\n",
       "       'Favor', 'Favor', 'Favor', 'Favor', 'Favor', 'Favor', 'Favor',\n",
       "       'Against', 'Favor', 'Favor', 'Favor', 'Against', 'Against',\n",
       "       'Against', 'Against', 'Against', 'Against', 'Favor', 'Favor',\n",
       "       'None', 'Against', 'Against', 'Favor', 'Favor', 'Against', 'Favor',\n",
       "       'None', 'Against', 'Favor', 'Against', 'Against', 'Favor', 'Favor',\n",
       "       'Favor', 'Against', 'Favor', 'Against', 'None', 'Favor', 'Favor',\n",
       "       'Favor', 'None', 'Favor', 'Against', 'Favor', 'Against', 'Favor',\n",
       "       'Favor', 'Favor', 'Against', 'Favor', 'Favor', 'Favor', 'Favor',\n",
       "       'Favor', 'Favor', 'Favor', 'Favor', 'Favor', 'Favor', 'Favor',\n",
       "       'Favor', 'Favor', 'Favor', 'Favor', 'Favor', 'Favor', 'Favor',\n",
       "       'Favor', 'Against', 'Against', 'Favor', 'None', 'Favor', 'Favor',\n",
       "       'Favor', 'Favor', 'Against', 'Against', 'Against', 'Favor',\n",
       "       'Favor', 'Favor', 'Against', 'Against', 'Favor', 'Favor',\n",
       "       'Against', 'Favor', 'Against', 'Against', 'Favor', 'Favor',\n",
       "       'Against', 'Favor', 'Against', 'Against', 'Favor', 'Favor', 'None',\n",
       "       'Favor', 'Against', 'Favor', 'Against', 'Favor', 'Favor',\n",
       "       'Against', 'None', 'Against', 'Favor', 'Favor', 'Favor', 'Favor',\n",
       "       'Favor', 'Against', 'Favor', 'Favor', 'Favor', 'Favor', 'None',\n",
       "       'None', 'Favor', 'Favor', 'Favor', 'Favor', 'Favor', 'Favor',\n",
       "       'Favor', 'Favor', 'Favor', 'Favor', 'Favor', 'Favor', 'Against',\n",
       "       'Against', 'None', 'Favor', 'Against', 'Against', 'Against',\n",
       "       'Favor', 'Favor', 'Favor', 'Against', 'Against', 'Against',\n",
       "       'Favor', 'Favor', 'Favor', 'Against', 'Against', 'Favor', 'Favor',\n",
       "       'Favor', 'Favor', 'Favor', 'Favor', 'Favor', 'Favor', 'Against',\n",
       "       'Against', 'Favor', 'Favor', 'Favor', 'Favor', 'Favor', 'Favor',\n",
       "       'Favor', 'Favor', 'Against', 'Against', 'Against', 'Against',\n",
       "       'Favor', 'Favor', 'Favor', 'Against', 'Against', 'Favor', 'None',\n",
       "       'Favor', 'Favor', 'Favor', 'Favor', 'Favor', 'Favor', 'None',\n",
       "       'Favor', 'Against', 'Favor', 'Against', 'Favor', 'Favor', 'Favor',\n",
       "       'Favor', 'Against', 'Favor', 'None', 'Favor', 'Favor', 'Favor',\n",
       "       'Against', 'Favor', 'None', 'Favor', 'Favor', 'Against', 'Against',\n",
       "       'Favor', 'Favor', 'Against', 'Favor', 'Favor', 'Favor', 'Against',\n",
       "       'Favor', 'None', 'Against', 'Favor', 'Favor', 'Favor', 'Against',\n",
       "       'Favor', 'Against', 'Favor', 'Favor', 'Favor', 'Favor', 'Against',\n",
       "       'Against', 'Favor', 'None', 'Favor', 'Against', 'Favor', 'Favor',\n",
       "       'None', 'Against', 'Favor', 'None', 'Against', 'Favor', 'Against',\n",
       "       'Against', 'Favor', 'Favor', 'Favor', 'Favor', 'Favor', 'Favor',\n",
       "       'Favor', 'Against', 'Against', 'Favor', 'Against', 'Against',\n",
       "       'Favor', 'Favor', 'Favor', 'Favor', 'None', 'Favor', 'Favor',\n",
       "       'Favor', 'Favor', 'Favor', 'Favor', 'Favor', 'Favor', 'Against',\n",
       "       'None', 'None', 'Favor', 'Favor', 'Against', 'Favor', 'Against',\n",
       "       'Favor', 'Against', 'Favor', 'Against', 'Favor', 'Favor',\n",
       "       'Against', 'Against', 'Against', 'Favor', 'Favor', 'None', 'Favor',\n",
       "       'Against', 'Favor', 'Against', 'Against'], dtype='<U7')"
      ]
     },
     "execution_count": 32,
     "metadata": {},
     "output_type": "execute_result"
    }
   ],
   "source": [
    "prediction_stance"
   ]
  },
  {
   "cell_type": "code",
   "execution_count": 33,
   "id": "502a184f",
   "metadata": {
    "execution": {
     "iopub.execute_input": "2024-03-10T19:01:37.842253Z",
     "iopub.status.busy": "2024-03-10T19:01:37.841968Z",
     "iopub.status.idle": "2024-03-10T19:01:37.845698Z",
     "shell.execute_reply": "2024-03-10T19:01:37.844862Z"
    },
    "papermill": {
     "duration": 0.028446,
     "end_time": "2024-03-10T19:01:37.847499",
     "exception": false,
     "start_time": "2024-03-10T19:01:37.819053",
     "status": "completed"
    },
    "tags": []
   },
   "outputs": [],
   "source": [
    "# rf_score = model_selection.cross_val_score(\n",
    "#     clf_stance,\n",
    "#     result,\n",
    "#     train_df.loc[:,'stance'],\n",
    "#     cv=5,\n",
    "#     n_jobs=-1,\n",
    "#     scoring='f1_macro',\n",
    "# )\n",
    "\n",
    "# np.mean(rf_score)"
   ]
  },
  {
   "cell_type": "markdown",
   "id": "a3b48622",
   "metadata": {
    "papermill": {
     "duration": 0.022302,
     "end_time": "2024-03-10T19:01:37.891501",
     "exception": false,
     "start_time": "2024-03-10T19:01:37.869199",
     "status": "completed"
    },
    "tags": []
   },
   "source": [
    "# Submit "
   ]
  },
  {
   "cell_type": "code",
   "execution_count": 34,
   "id": "cc4ce374",
   "metadata": {
    "execution": {
     "iopub.execute_input": "2024-03-10T19:01:37.935927Z",
     "iopub.status.busy": "2024-03-10T19:01:37.935625Z",
     "iopub.status.idle": "2024-03-10T19:01:38.000510Z",
     "shell.execute_reply": "2024-03-10T19:01:37.999100Z"
    },
    "papermill": {
     "duration": 0.090599,
     "end_time": "2024-03-10T19:01:38.003867",
     "exception": false,
     "start_time": "2024-03-10T19:01:37.913268",
     "status": "completed"
    },
    "tags": []
   },
   "outputs": [],
   "source": [
    "test_predictions = clf_stance.predict(result_test)\n",
    "\n",
    "(\n",
    "    pd.read_csv(\"/kaggle/input/predicting-a-writers-stance/dummy-submission.csv\")\n",
    "      .assign(stance=test_predictions)\n",
    "      .to_csv(\"submission.csv\", index=False)\n",
    ")"
   ]
  },
  {
   "cell_type": "code",
   "execution_count": 35,
   "id": "fdecb68f",
   "metadata": {
    "execution": {
     "iopub.execute_input": "2024-03-10T19:01:38.103066Z",
     "iopub.status.busy": "2024-03-10T19:01:38.102486Z",
     "iopub.status.idle": "2024-03-10T19:01:38.133263Z",
     "shell.execute_reply": "2024-03-10T19:01:38.132128Z"
    },
    "papermill": {
     "duration": 0.085264,
     "end_time": "2024-03-10T19:01:38.137255",
     "exception": false,
     "start_time": "2024-03-10T19:01:38.051991",
     "status": "completed"
    },
    "tags": []
   },
   "outputs": [
    {
     "name": "stdout",
     "output_type": "stream",
     "text": [
      "id,stance\n",
      "0,Favor\n",
      "1,Against\n",
      "2,Favor\n",
      "3,None\n",
      "4,Favor\n",
      "5,Against\n",
      "6,None\n",
      "7,Favor\n",
      "8,Favor\n"
     ]
    }
   ],
   "source": [
    "%%bash\n",
    "\n",
    "cat submission.csv | head -n 10"
   ]
  },
  {
   "cell_type": "code",
   "execution_count": null,
   "id": "109d98b4",
   "metadata": {
    "papermill": {
     "duration": 0.023883,
     "end_time": "2024-03-10T19:01:38.185841",
     "exception": false,
     "start_time": "2024-03-10T19:01:38.161958",
     "status": "completed"
    },
    "tags": []
   },
   "outputs": [],
   "source": []
  },
  {
   "cell_type": "code",
   "execution_count": null,
   "id": "65f8d939",
   "metadata": {
    "papermill": {
     "duration": 0.023787,
     "end_time": "2024-03-10T19:01:38.233142",
     "exception": false,
     "start_time": "2024-03-10T19:01:38.209355",
     "status": "completed"
    },
    "tags": []
   },
   "outputs": [],
   "source": []
  }
 ],
 "metadata": {
  "kaggle": {
   "accelerator": "nvidiaTeslaT4",
   "dataSources": [
    {
     "databundleVersionId": 7795112,
     "sourceId": 71305,
     "sourceType": "competition"
    }
   ],
   "dockerImageVersionId": 30664,
   "isGpuEnabled": true,
   "isInternetEnabled": true,
   "language": "python",
   "sourceType": "notebook"
  },
  "kernelspec": {
   "display_name": "Python 3",
   "language": "python",
   "name": "python3"
  },
  "language_info": {
   "codemirror_mode": {
    "name": "ipython",
    "version": 3
   },
   "file_extension": ".py",
   "mimetype": "text/x-python",
   "name": "python",
   "nbconvert_exporter": "python",
   "pygments_lexer": "ipython3",
   "version": "3.10.13"
  },
  "papermill": {
   "default_parameters": {},
   "duration": 192.404111,
   "end_time": "2024-03-10T19:01:41.964039",
   "environment_variables": {},
   "exception": null,
   "input_path": "__notebook__.ipynb",
   "output_path": "__notebook__.ipynb",
   "parameters": {},
   "start_time": "2024-03-10T18:58:29.559928",
   "version": "2.5.0"
  },
  "widgets": {
   "application/vnd.jupyter.widget-state+json": {
    "state": {
     "002cd16515ab44f990ca154bbfd5a39e": {
      "model_module": "@jupyter-widgets/base",
      "model_module_version": "1.2.0",
      "model_name": "LayoutModel",
      "state": {
       "_model_module": "@jupyter-widgets/base",
       "_model_module_version": "1.2.0",
       "_model_name": "LayoutModel",
       "_view_count": null,
       "_view_module": "@jupyter-widgets/base",
       "_view_module_version": "1.2.0",
       "_view_name": "LayoutView",
       "align_content": null,
       "align_items": null,
       "align_self": null,
       "border": null,
       "bottom": null,
       "display": null,
       "flex": null,
       "flex_flow": null,
       "grid_area": null,
       "grid_auto_columns": null,
       "grid_auto_flow": null,
       "grid_auto_rows": null,
       "grid_column": null,
       "grid_gap": null,
       "grid_row": null,
       "grid_template_areas": null,
       "grid_template_columns": null,
       "grid_template_rows": null,
       "height": null,
       "justify_content": null,
       "justify_items": null,
       "left": null,
       "margin": null,
       "max_height": null,
       "max_width": null,
       "min_height": null,
       "min_width": null,
       "object_fit": null,
       "object_position": null,
       "order": null,
       "overflow": null,
       "overflow_x": null,
       "overflow_y": null,
       "padding": null,
       "right": null,
       "top": null,
       "visibility": null,
       "width": null
      }
     },
     "04a2a5eab24e4dd482e208017992a958": {
      "model_module": "@jupyter-widgets/base",
      "model_module_version": "1.2.0",
      "model_name": "LayoutModel",
      "state": {
       "_model_module": "@jupyter-widgets/base",
       "_model_module_version": "1.2.0",
       "_model_name": "LayoutModel",
       "_view_count": null,
       "_view_module": "@jupyter-widgets/base",
       "_view_module_version": "1.2.0",
       "_view_name": "LayoutView",
       "align_content": null,
       "align_items": null,
       "align_self": null,
       "border": null,
       "bottom": null,
       "display": null,
       "flex": null,
       "flex_flow": null,
       "grid_area": null,
       "grid_auto_columns": null,
       "grid_auto_flow": null,
       "grid_auto_rows": null,
       "grid_column": null,
       "grid_gap": null,
       "grid_row": null,
       "grid_template_areas": null,
       "grid_template_columns": null,
       "grid_template_rows": null,
       "height": null,
       "justify_content": null,
       "justify_items": null,
       "left": null,
       "margin": null,
       "max_height": null,
       "max_width": null,
       "min_height": null,
       "min_width": null,
       "object_fit": null,
       "object_position": null,
       "order": null,
       "overflow": null,
       "overflow_x": null,
       "overflow_y": null,
       "padding": null,
       "right": null,
       "top": null,
       "visibility": null,
       "width": null
      }
     },
     "07f3445afb8a410bb351108ee597753e": {
      "model_module": "@jupyter-widgets/controls",
      "model_module_version": "1.5.0",
      "model_name": "HTMLModel",
      "state": {
       "_dom_classes": [],
       "_model_module": "@jupyter-widgets/controls",
       "_model_module_version": "1.5.0",
       "_model_name": "HTMLModel",
       "_view_count": null,
       "_view_module": "@jupyter-widgets/controls",
       "_view_module_version": "1.5.0",
       "_view_name": "HTMLView",
       "description": "",
       "description_tooltip": null,
       "layout": "IPY_MODEL_fb6e224714d649ecb76f0dae17e1c4e3",
       "placeholder": "​",
       "style": "IPY_MODEL_166ed7564ec54ac6b59e672df871a073",
       "value": " 702/702 [00:00&lt;00:00, 69.6kB/s]"
      }
     },
     "0cbf8892afa04d35a0cd5b3f9bb4e051": {
      "model_module": "@jupyter-widgets/base",
      "model_module_version": "1.2.0",
      "model_name": "LayoutModel",
      "state": {
       "_model_module": "@jupyter-widgets/base",
       "_model_module_version": "1.2.0",
       "_model_name": "LayoutModel",
       "_view_count": null,
       "_view_module": "@jupyter-widgets/base",
       "_view_module_version": "1.2.0",
       "_view_name": "LayoutView",
       "align_content": null,
       "align_items": null,
       "align_self": null,
       "border": null,
       "bottom": null,
       "display": null,
       "flex": null,
       "flex_flow": null,
       "grid_area": null,
       "grid_auto_columns": null,
       "grid_auto_flow": null,
       "grid_auto_rows": null,
       "grid_column": null,
       "grid_gap": null,
       "grid_row": null,
       "grid_template_areas": null,
       "grid_template_columns": null,
       "grid_template_rows": null,
       "height": null,
       "justify_content": null,
       "justify_items": null,
       "left": null,
       "margin": null,
       "max_height": null,
       "max_width": null,
       "min_height": null,
       "min_width": null,
       "object_fit": null,
       "object_position": null,
       "order": null,
       "overflow": null,
       "overflow_x": null,
       "overflow_y": null,
       "padding": null,
       "right": null,
       "top": null,
       "visibility": null,
       "width": null
      }
     },
     "110cd544d9a44849825a01430edfaeca": {
      "model_module": "@jupyter-widgets/base",
      "model_module_version": "1.2.0",
      "model_name": "LayoutModel",
      "state": {
       "_model_module": "@jupyter-widgets/base",
       "_model_module_version": "1.2.0",
       "_model_name": "LayoutModel",
       "_view_count": null,
       "_view_module": "@jupyter-widgets/base",
       "_view_module_version": "1.2.0",
       "_view_name": "LayoutView",
       "align_content": null,
       "align_items": null,
       "align_self": null,
       "border": null,
       "bottom": null,
       "display": null,
       "flex": null,
       "flex_flow": null,
       "grid_area": null,
       "grid_auto_columns": null,
       "grid_auto_flow": null,
       "grid_auto_rows": null,
       "grid_column": null,
       "grid_gap": null,
       "grid_row": null,
       "grid_template_areas": null,
       "grid_template_columns": null,
       "grid_template_rows": null,
       "height": null,
       "justify_content": null,
       "justify_items": null,
       "left": null,
       "margin": null,
       "max_height": null,
       "max_width": null,
       "min_height": null,
       "min_width": null,
       "object_fit": null,
       "object_position": null,
       "order": null,
       "overflow": null,
       "overflow_x": null,
       "overflow_y": null,
       "padding": null,
       "right": null,
       "top": null,
       "visibility": null,
       "width": null
      }
     },
     "122b6b4cea0147c18046fe8ba53993c8": {
      "model_module": "@jupyter-widgets/controls",
      "model_module_version": "1.5.0",
      "model_name": "HTMLModel",
      "state": {
       "_dom_classes": [],
       "_model_module": "@jupyter-widgets/controls",
       "_model_module_version": "1.5.0",
       "_model_name": "HTMLModel",
       "_view_count": null,
       "_view_module": "@jupyter-widgets/controls",
       "_view_module_version": "1.5.0",
       "_view_name": "HTMLView",
       "description": "",
       "description_tooltip": null,
       "layout": "IPY_MODEL_189a55dfc5e744debca067ec754a7079",
       "placeholder": "​",
       "style": "IPY_MODEL_82bcc1364d7945e09f969d0d480afb3f",
       "value": "vocab.txt: 100%"
      }
     },
     "166ed7564ec54ac6b59e672df871a073": {
      "model_module": "@jupyter-widgets/controls",
      "model_module_version": "1.5.0",
      "model_name": "DescriptionStyleModel",
      "state": {
       "_model_module": "@jupyter-widgets/controls",
       "_model_module_version": "1.5.0",
       "_model_name": "DescriptionStyleModel",
       "_view_count": null,
       "_view_module": "@jupyter-widgets/base",
       "_view_module_version": "1.2.0",
       "_view_name": "StyleView",
       "description_width": ""
      }
     },
     "16ccdaceeea54839b67168dad1951fa6": {
      "model_module": "@jupyter-widgets/controls",
      "model_module_version": "1.5.0",
      "model_name": "FloatProgressModel",
      "state": {
       "_dom_classes": [],
       "_model_module": "@jupyter-widgets/controls",
       "_model_module_version": "1.5.0",
       "_model_name": "FloatProgressModel",
       "_view_count": null,
       "_view_module": "@jupyter-widgets/controls",
       "_view_module_version": "1.5.0",
       "_view_name": "ProgressView",
       "bar_style": "success",
       "description": "",
       "description_tooltip": null,
       "layout": "IPY_MODEL_04a2a5eab24e4dd482e208017992a958",
       "max": 814551.0,
       "min": 0.0,
       "orientation": "horizontal",
       "style": "IPY_MODEL_8d17b871d9604573914cf6d8af4fb9a0",
       "value": 814551.0
      }
     },
     "189a55dfc5e744debca067ec754a7079": {
      "model_module": "@jupyter-widgets/base",
      "model_module_version": "1.2.0",
      "model_name": "LayoutModel",
      "state": {
       "_model_module": "@jupyter-widgets/base",
       "_model_module_version": "1.2.0",
       "_model_name": "LayoutModel",
       "_view_count": null,
       "_view_module": "@jupyter-widgets/base",
       "_view_module_version": "1.2.0",
       "_view_name": "LayoutView",
       "align_content": null,
       "align_items": null,
       "align_self": null,
       "border": null,
       "bottom": null,
       "display": null,
       "flex": null,
       "flex_flow": null,
       "grid_area": null,
       "grid_auto_columns": null,
       "grid_auto_flow": null,
       "grid_auto_rows": null,
       "grid_column": null,
       "grid_gap": null,
       "grid_row": null,
       "grid_template_areas": null,
       "grid_template_columns": null,
       "grid_template_rows": null,
       "height": null,
       "justify_content": null,
       "justify_items": null,
       "left": null,
       "margin": null,
       "max_height": null,
       "max_width": null,
       "min_height": null,
       "min_width": null,
       "object_fit": null,
       "object_position": null,
       "order": null,
       "overflow": null,
       "overflow_x": null,
       "overflow_y": null,
       "padding": null,
       "right": null,
       "top": null,
       "visibility": null,
       "width": null
      }
     },
     "1c642aa6afc041c1ac20cce6ccde5797": {
      "model_module": "@jupyter-widgets/controls",
      "model_module_version": "1.5.0",
      "model_name": "DescriptionStyleModel",
      "state": {
       "_model_module": "@jupyter-widgets/controls",
       "_model_module_version": "1.5.0",
       "_model_name": "DescriptionStyleModel",
       "_view_count": null,
       "_view_module": "@jupyter-widgets/base",
       "_view_module_version": "1.2.0",
       "_view_name": "StyleView",
       "description_width": ""
      }
     },
     "1cca0a28cf024fc694ed41d82bcc42b3": {
      "model_module": "@jupyter-widgets/controls",
      "model_module_version": "1.5.0",
      "model_name": "DescriptionStyleModel",
      "state": {
       "_model_module": "@jupyter-widgets/controls",
       "_model_module_version": "1.5.0",
       "_model_name": "DescriptionStyleModel",
       "_view_count": null,
       "_view_module": "@jupyter-widgets/base",
       "_view_module_version": "1.2.0",
       "_view_name": "StyleView",
       "description_width": ""
      }
     },
     "1e2e04b8a7854f0db9a991fb016295b3": {
      "model_module": "@jupyter-widgets/controls",
      "model_module_version": "1.5.0",
      "model_name": "HTMLModel",
      "state": {
       "_dom_classes": [],
       "_model_module": "@jupyter-widgets/controls",
       "_model_module_version": "1.5.0",
       "_model_name": "HTMLModel",
       "_view_count": null,
       "_view_module": "@jupyter-widgets/controls",
       "_view_module_version": "1.5.0",
       "_view_name": "HTMLView",
       "description": "",
       "description_tooltip": null,
       "layout": "IPY_MODEL_729a9480674d46d699b7574779696fc8",
       "placeholder": "​",
       "style": "IPY_MODEL_fca4ab0af8b34fa28f7dd24685da9322",
       "value": " 456/456 [00:00&lt;00:00, 35.6kB/s]"
      }
     },
     "1f0767526a67441d869e52fcf06df0c1": {
      "model_module": "@jupyter-widgets/base",
      "model_module_version": "1.2.0",
      "model_name": "LayoutModel",
      "state": {
       "_model_module": "@jupyter-widgets/base",
       "_model_module_version": "1.2.0",
       "_model_name": "LayoutModel",
       "_view_count": null,
       "_view_module": "@jupyter-widgets/base",
       "_view_module_version": "1.2.0",
       "_view_name": "LayoutView",
       "align_content": null,
       "align_items": null,
       "align_self": null,
       "border": null,
       "bottom": null,
       "display": null,
       "flex": null,
       "flex_flow": null,
       "grid_area": null,
       "grid_auto_columns": null,
       "grid_auto_flow": null,
       "grid_auto_rows": null,
       "grid_column": null,
       "grid_gap": null,
       "grid_row": null,
       "grid_template_areas": null,
       "grid_template_columns": null,
       "grid_template_rows": null,
       "height": null,
       "justify_content": null,
       "justify_items": null,
       "left": null,
       "margin": null,
       "max_height": null,
       "max_width": null,
       "min_height": null,
       "min_width": null,
       "object_fit": null,
       "object_position": null,
       "order": null,
       "overflow": null,
       "overflow_x": null,
       "overflow_y": null,
       "padding": null,
       "right": null,
       "top": null,
       "visibility": null,
       "width": null
      }
     },
     "20895c66e8d546dd95e461de6f2b3d48": {
      "model_module": "@jupyter-widgets/controls",
      "model_module_version": "1.5.0",
      "model_name": "FloatProgressModel",
      "state": {
       "_dom_classes": [],
       "_model_module": "@jupyter-widgets/controls",
       "_model_module_version": "1.5.0",
       "_model_name": "FloatProgressModel",
       "_view_count": null,
       "_view_module": "@jupyter-widgets/controls",
       "_view_module_version": "1.5.0",
       "_view_name": "ProgressView",
       "bar_style": "success",
       "description": "",
       "description_tooltip": null,
       "layout": "IPY_MODEL_9567b5a37f93444a8da90f13f76134e6",
       "max": 112.0,
       "min": 0.0,
       "orientation": "horizontal",
       "style": "IPY_MODEL_7d30a65f8d5a4e24989c94d245b85993",
       "value": 112.0
      }
     },
     "21a2b1d1b5a3405dbc7118fc287a2ed2": {
      "model_module": "@jupyter-widgets/controls",
      "model_module_version": "1.5.0",
      "model_name": "DescriptionStyleModel",
      "state": {
       "_model_module": "@jupyter-widgets/controls",
       "_model_module_version": "1.5.0",
       "_model_name": "DescriptionStyleModel",
       "_view_count": null,
       "_view_module": "@jupyter-widgets/base",
       "_view_module_version": "1.2.0",
       "_view_name": "StyleView",
       "description_width": ""
      }
     },
     "22629048d2af42a2a9d2f13a52668bac": {
      "model_module": "@jupyter-widgets/controls",
      "model_module_version": "1.5.0",
      "model_name": "HBoxModel",
      "state": {
       "_dom_classes": [],
       "_model_module": "@jupyter-widgets/controls",
       "_model_module_version": "1.5.0",
       "_model_name": "HBoxModel",
       "_view_count": null,
       "_view_module": "@jupyter-widgets/controls",
       "_view_module_version": "1.5.0",
       "_view_name": "HBoxView",
       "box_style": "",
       "children": [
        "IPY_MODEL_9975c0a58b174299869abd1ccf2f04c6",
        "IPY_MODEL_9cfca91c3e4e425e8cc985a374eaba69",
        "IPY_MODEL_1e2e04b8a7854f0db9a991fb016295b3"
       ],
       "layout": "IPY_MODEL_40efa0aa2fb04d1b8431759241d2edbc"
      }
     },
     "2abd232b023145d28f6f43ef6c61d8d9": {
      "model_module": "@jupyter-widgets/controls",
      "model_module_version": "1.5.0",
      "model_name": "DescriptionStyleModel",
      "state": {
       "_model_module": "@jupyter-widgets/controls",
       "_model_module_version": "1.5.0",
       "_model_name": "DescriptionStyleModel",
       "_view_count": null,
       "_view_module": "@jupyter-widgets/base",
       "_view_module_version": "1.2.0",
       "_view_name": "StyleView",
       "description_width": ""
      }
     },
     "308ece4b0b154a2594bc4cdea1730760": {
      "model_module": "@jupyter-widgets/controls",
      "model_module_version": "1.5.0",
      "model_name": "FloatProgressModel",
      "state": {
       "_dom_classes": [],
       "_model_module": "@jupyter-widgets/controls",
       "_model_module_version": "1.5.0",
       "_model_name": "FloatProgressModel",
       "_view_count": null,
       "_view_module": "@jupyter-widgets/controls",
       "_view_module_version": "1.5.0",
       "_view_name": "ProgressView",
       "bar_style": "success",
       "description": "",
       "description_tooltip": null,
       "layout": "IPY_MODEL_41cf79feeaea4eb2a455d1f5796f9467",
       "max": 1478009098.0,
       "min": 0.0,
       "orientation": "horizontal",
       "style": "IPY_MODEL_43bab6b14a9240c3b2f98852d031ce9c",
       "value": 1478009098.0
      }
     },
     "35c41cc9b0e34cfbb6fec2ea2965e77a": {
      "model_module": "@jupyter-widgets/base",
      "model_module_version": "1.2.0",
      "model_name": "LayoutModel",
      "state": {
       "_model_module": "@jupyter-widgets/base",
       "_model_module_version": "1.2.0",
       "_model_name": "LayoutModel",
       "_view_count": null,
       "_view_module": "@jupyter-widgets/base",
       "_view_module_version": "1.2.0",
       "_view_name": "LayoutView",
       "align_content": null,
       "align_items": null,
       "align_self": null,
       "border": null,
       "bottom": null,
       "display": null,
       "flex": null,
       "flex_flow": null,
       "grid_area": null,
       "grid_auto_columns": null,
       "grid_auto_flow": null,
       "grid_auto_rows": null,
       "grid_column": null,
       "grid_gap": null,
       "grid_row": null,
       "grid_template_areas": null,
       "grid_template_columns": null,
       "grid_template_rows": null,
       "height": null,
       "justify_content": null,
       "justify_items": null,
       "left": null,
       "margin": null,
       "max_height": null,
       "max_width": null,
       "min_height": null,
       "min_width": null,
       "object_fit": null,
       "object_position": null,
       "order": null,
       "overflow": null,
       "overflow_x": null,
       "overflow_y": null,
       "padding": null,
       "right": null,
       "top": null,
       "visibility": null,
       "width": null
      }
     },
     "37a7306923d04ba6848ad6b2427329d1": {
      "model_module": "@jupyter-widgets/controls",
      "model_module_version": "1.5.0",
      "model_name": "HTMLModel",
      "state": {
       "_dom_classes": [],
       "_model_module": "@jupyter-widgets/controls",
       "_model_module_version": "1.5.0",
       "_model_name": "HTMLModel",
       "_view_count": null,
       "_view_module": "@jupyter-widgets/controls",
       "_view_module_version": "1.5.0",
       "_view_name": "HTMLView",
       "description": "",
       "description_tooltip": null,
       "layout": "IPY_MODEL_5bddc25444a64d478ba76fa0c34ae004",
       "placeholder": "​",
       "style": "IPY_MODEL_21a2b1d1b5a3405dbc7118fc287a2ed2",
       "value": " 1.48G/1.48G [00:10&lt;00:00, 149MB/s]"
      }
     },
     "40efa0aa2fb04d1b8431759241d2edbc": {
      "model_module": "@jupyter-widgets/base",
      "model_module_version": "1.2.0",
      "model_name": "LayoutModel",
      "state": {
       "_model_module": "@jupyter-widgets/base",
       "_model_module_version": "1.2.0",
       "_model_name": "LayoutModel",
       "_view_count": null,
       "_view_module": "@jupyter-widgets/base",
       "_view_module_version": "1.2.0",
       "_view_name": "LayoutView",
       "align_content": null,
       "align_items": null,
       "align_self": null,
       "border": null,
       "bottom": null,
       "display": null,
       "flex": null,
       "flex_flow": null,
       "grid_area": null,
       "grid_auto_columns": null,
       "grid_auto_flow": null,
       "grid_auto_rows": null,
       "grid_column": null,
       "grid_gap": null,
       "grid_row": null,
       "grid_template_areas": null,
       "grid_template_columns": null,
       "grid_template_rows": null,
       "height": null,
       "justify_content": null,
       "justify_items": null,
       "left": null,
       "margin": null,
       "max_height": null,
       "max_width": null,
       "min_height": null,
       "min_width": null,
       "object_fit": null,
       "object_position": null,
       "order": null,
       "overflow": null,
       "overflow_x": null,
       "overflow_y": null,
       "padding": null,
       "right": null,
       "top": null,
       "visibility": null,
       "width": null
      }
     },
     "41cf79feeaea4eb2a455d1f5796f9467": {
      "model_module": "@jupyter-widgets/base",
      "model_module_version": "1.2.0",
      "model_name": "LayoutModel",
      "state": {
       "_model_module": "@jupyter-widgets/base",
       "_model_module_version": "1.2.0",
       "_model_name": "LayoutModel",
       "_view_count": null,
       "_view_module": "@jupyter-widgets/base",
       "_view_module_version": "1.2.0",
       "_view_name": "LayoutView",
       "align_content": null,
       "align_items": null,
       "align_self": null,
       "border": null,
       "bottom": null,
       "display": null,
       "flex": null,
       "flex_flow": null,
       "grid_area": null,
       "grid_auto_columns": null,
       "grid_auto_flow": null,
       "grid_auto_rows": null,
       "grid_column": null,
       "grid_gap": null,
       "grid_row": null,
       "grid_template_areas": null,
       "grid_template_columns": null,
       "grid_template_rows": null,
       "height": null,
       "justify_content": null,
       "justify_items": null,
       "left": null,
       "margin": null,
       "max_height": null,
       "max_width": null,
       "min_height": null,
       "min_width": null,
       "object_fit": null,
       "object_position": null,
       "order": null,
       "overflow": null,
       "overflow_x": null,
       "overflow_y": null,
       "padding": null,
       "right": null,
       "top": null,
       "visibility": null,
       "width": null
      }
     },
     "42f68412b26b480b81fb7a2a6957e3db": {
      "model_module": "@jupyter-widgets/controls",
      "model_module_version": "1.5.0",
      "model_name": "HTMLModel",
      "state": {
       "_dom_classes": [],
       "_model_module": "@jupyter-widgets/controls",
       "_model_module_version": "1.5.0",
       "_model_name": "HTMLModel",
       "_view_count": null,
       "_view_module": "@jupyter-widgets/controls",
       "_view_module_version": "1.5.0",
       "_view_name": "HTMLView",
       "description": "",
       "description_tooltip": null,
       "layout": "IPY_MODEL_bb712dba6d224e489f434fdbfa150d53",
       "placeholder": "​",
       "style": "IPY_MODEL_2abd232b023145d28f6f43ef6c61d8d9",
       "value": " 815k/815k [00:00&lt;00:00, 12.3MB/s]"
      }
     },
     "43bab6b14a9240c3b2f98852d031ce9c": {
      "model_module": "@jupyter-widgets/controls",
      "model_module_version": "1.5.0",
      "model_name": "ProgressStyleModel",
      "state": {
       "_model_module": "@jupyter-widgets/controls",
       "_model_module_version": "1.5.0",
       "_model_name": "ProgressStyleModel",
       "_view_count": null,
       "_view_module": "@jupyter-widgets/base",
       "_view_module_version": "1.2.0",
       "_view_name": "StyleView",
       "bar_color": null,
       "description_width": ""
      }
     },
     "4b3683aef87b4d388d1fe8ca7d36bff7": {
      "model_module": "@jupyter-widgets/base",
      "model_module_version": "1.2.0",
      "model_name": "LayoutModel",
      "state": {
       "_model_module": "@jupyter-widgets/base",
       "_model_module_version": "1.2.0",
       "_model_name": "LayoutModel",
       "_view_count": null,
       "_view_module": "@jupyter-widgets/base",
       "_view_module_version": "1.2.0",
       "_view_name": "LayoutView",
       "align_content": null,
       "align_items": null,
       "align_self": null,
       "border": null,
       "bottom": null,
       "display": null,
       "flex": null,
       "flex_flow": null,
       "grid_area": null,
       "grid_auto_columns": null,
       "grid_auto_flow": null,
       "grid_auto_rows": null,
       "grid_column": null,
       "grid_gap": null,
       "grid_row": null,
       "grid_template_areas": null,
       "grid_template_columns": null,
       "grid_template_rows": null,
       "height": null,
       "justify_content": null,
       "justify_items": null,
       "left": null,
       "margin": null,
       "max_height": null,
       "max_width": null,
       "min_height": null,
       "min_width": null,
       "object_fit": null,
       "object_position": null,
       "order": null,
       "overflow": null,
       "overflow_x": null,
       "overflow_y": null,
       "padding": null,
       "right": null,
       "top": null,
       "visibility": null,
       "width": null
      }
     },
     "4ba7b40222904e4eb7bc78f28b2a47fb": {
      "model_module": "@jupyter-widgets/controls",
      "model_module_version": "1.5.0",
      "model_name": "DescriptionStyleModel",
      "state": {
       "_model_module": "@jupyter-widgets/controls",
       "_model_module_version": "1.5.0",
       "_model_name": "DescriptionStyleModel",
       "_view_count": null,
       "_view_module": "@jupyter-widgets/base",
       "_view_module_version": "1.2.0",
       "_view_name": "StyleView",
       "description_width": ""
      }
     },
     "5bddc25444a64d478ba76fa0c34ae004": {
      "model_module": "@jupyter-widgets/base",
      "model_module_version": "1.2.0",
      "model_name": "LayoutModel",
      "state": {
       "_model_module": "@jupyter-widgets/base",
       "_model_module_version": "1.2.0",
       "_model_name": "LayoutModel",
       "_view_count": null,
       "_view_module": "@jupyter-widgets/base",
       "_view_module_version": "1.2.0",
       "_view_name": "LayoutView",
       "align_content": null,
       "align_items": null,
       "align_self": null,
       "border": null,
       "bottom": null,
       "display": null,
       "flex": null,
       "flex_flow": null,
       "grid_area": null,
       "grid_auto_columns": null,
       "grid_auto_flow": null,
       "grid_auto_rows": null,
       "grid_column": null,
       "grid_gap": null,
       "grid_row": null,
       "grid_template_areas": null,
       "grid_template_columns": null,
       "grid_template_rows": null,
       "height": null,
       "justify_content": null,
       "justify_items": null,
       "left": null,
       "margin": null,
       "max_height": null,
       "max_width": null,
       "min_height": null,
       "min_width": null,
       "object_fit": null,
       "object_position": null,
       "order": null,
       "overflow": null,
       "overflow_x": null,
       "overflow_y": null,
       "padding": null,
       "right": null,
       "top": null,
       "visibility": null,
       "width": null
      }
     },
     "65c6054f2a384e3885a8c866feedf22a": {
      "model_module": "@jupyter-widgets/controls",
      "model_module_version": "1.5.0",
      "model_name": "HTMLModel",
      "state": {
       "_dom_classes": [],
       "_model_module": "@jupyter-widgets/controls",
       "_model_module_version": "1.5.0",
       "_model_name": "HTMLModel",
       "_view_count": null,
       "_view_module": "@jupyter-widgets/controls",
       "_view_module_version": "1.5.0",
       "_view_name": "HTMLView",
       "description": "",
       "description_tooltip": null,
       "layout": "IPY_MODEL_dd999c5e3dbf48d9a29a676a2551e022",
       "placeholder": "​",
       "style": "IPY_MODEL_1c642aa6afc041c1ac20cce6ccde5797",
       "value": " 112/112 [00:00&lt;00:00, 9.57kB/s]"
      }
     },
     "65e2e84ebbde4b7b8d6638d4271c5613": {
      "model_module": "@jupyter-widgets/controls",
      "model_module_version": "1.5.0",
      "model_name": "FloatProgressModel",
      "state": {
       "_dom_classes": [],
       "_model_module": "@jupyter-widgets/controls",
       "_model_module_version": "1.5.0",
       "_model_name": "FloatProgressModel",
       "_view_count": null,
       "_view_module": "@jupyter-widgets/controls",
       "_view_module_version": "1.5.0",
       "_view_name": "ProgressView",
       "bar_style": "success",
       "description": "",
       "description_tooltip": null,
       "layout": "IPY_MODEL_0cbf8892afa04d35a0cd5b3f9bb4e051",
       "max": 702.0,
       "min": 0.0,
       "orientation": "horizontal",
       "style": "IPY_MODEL_b10213933f154107ba606842efdc26ff",
       "value": 702.0
      }
     },
     "7279e5225b6340f1a831bea6b8a53eee": {
      "model_module": "@jupyter-widgets/controls",
      "model_module_version": "1.5.0",
      "model_name": "HBoxModel",
      "state": {
       "_dom_classes": [],
       "_model_module": "@jupyter-widgets/controls",
       "_model_module_version": "1.5.0",
       "_model_name": "HBoxModel",
       "_view_count": null,
       "_view_module": "@jupyter-widgets/controls",
       "_view_module_version": "1.5.0",
       "_view_name": "HBoxView",
       "box_style": "",
       "children": [
        "IPY_MODEL_122b6b4cea0147c18046fe8ba53993c8",
        "IPY_MODEL_16ccdaceeea54839b67168dad1951fa6",
        "IPY_MODEL_42f68412b26b480b81fb7a2a6957e3db"
       ],
       "layout": "IPY_MODEL_72ee683c8cba471cb27884a88c89260b"
      }
     },
     "729a9480674d46d699b7574779696fc8": {
      "model_module": "@jupyter-widgets/base",
      "model_module_version": "1.2.0",
      "model_name": "LayoutModel",
      "state": {
       "_model_module": "@jupyter-widgets/base",
       "_model_module_version": "1.2.0",
       "_model_name": "LayoutModel",
       "_view_count": null,
       "_view_module": "@jupyter-widgets/base",
       "_view_module_version": "1.2.0",
       "_view_name": "LayoutView",
       "align_content": null,
       "align_items": null,
       "align_self": null,
       "border": null,
       "bottom": null,
       "display": null,
       "flex": null,
       "flex_flow": null,
       "grid_area": null,
       "grid_auto_columns": null,
       "grid_auto_flow": null,
       "grid_auto_rows": null,
       "grid_column": null,
       "grid_gap": null,
       "grid_row": null,
       "grid_template_areas": null,
       "grid_template_columns": null,
       "grid_template_rows": null,
       "height": null,
       "justify_content": null,
       "justify_items": null,
       "left": null,
       "margin": null,
       "max_height": null,
       "max_width": null,
       "min_height": null,
       "min_width": null,
       "object_fit": null,
       "object_position": null,
       "order": null,
       "overflow": null,
       "overflow_x": null,
       "overflow_y": null,
       "padding": null,
       "right": null,
       "top": null,
       "visibility": null,
       "width": null
      }
     },
     "72ee683c8cba471cb27884a88c89260b": {
      "model_module": "@jupyter-widgets/base",
      "model_module_version": "1.2.0",
      "model_name": "LayoutModel",
      "state": {
       "_model_module": "@jupyter-widgets/base",
       "_model_module_version": "1.2.0",
       "_model_name": "LayoutModel",
       "_view_count": null,
       "_view_module": "@jupyter-widgets/base",
       "_view_module_version": "1.2.0",
       "_view_name": "LayoutView",
       "align_content": null,
       "align_items": null,
       "align_self": null,
       "border": null,
       "bottom": null,
       "display": null,
       "flex": null,
       "flex_flow": null,
       "grid_area": null,
       "grid_auto_columns": null,
       "grid_auto_flow": null,
       "grid_auto_rows": null,
       "grid_column": null,
       "grid_gap": null,
       "grid_row": null,
       "grid_template_areas": null,
       "grid_template_columns": null,
       "grid_template_rows": null,
       "height": null,
       "justify_content": null,
       "justify_items": null,
       "left": null,
       "margin": null,
       "max_height": null,
       "max_width": null,
       "min_height": null,
       "min_width": null,
       "object_fit": null,
       "object_position": null,
       "order": null,
       "overflow": null,
       "overflow_x": null,
       "overflow_y": null,
       "padding": null,
       "right": null,
       "top": null,
       "visibility": null,
       "width": null
      }
     },
     "74bee3accb494eca9ef5b1ede0da5da2": {
      "model_module": "@jupyter-widgets/base",
      "model_module_version": "1.2.0",
      "model_name": "LayoutModel",
      "state": {
       "_model_module": "@jupyter-widgets/base",
       "_model_module_version": "1.2.0",
       "_model_name": "LayoutModel",
       "_view_count": null,
       "_view_module": "@jupyter-widgets/base",
       "_view_module_version": "1.2.0",
       "_view_name": "LayoutView",
       "align_content": null,
       "align_items": null,
       "align_self": null,
       "border": null,
       "bottom": null,
       "display": null,
       "flex": null,
       "flex_flow": null,
       "grid_area": null,
       "grid_auto_columns": null,
       "grid_auto_flow": null,
       "grid_auto_rows": null,
       "grid_column": null,
       "grid_gap": null,
       "grid_row": null,
       "grid_template_areas": null,
       "grid_template_columns": null,
       "grid_template_rows": null,
       "height": null,
       "justify_content": null,
       "justify_items": null,
       "left": null,
       "margin": null,
       "max_height": null,
       "max_width": null,
       "min_height": null,
       "min_width": null,
       "object_fit": null,
       "object_position": null,
       "order": null,
       "overflow": null,
       "overflow_x": null,
       "overflow_y": null,
       "padding": null,
       "right": null,
       "top": null,
       "visibility": null,
       "width": null
      }
     },
     "7862bd3436a3498289805d230b5775fd": {
      "model_module": "@jupyter-widgets/controls",
      "model_module_version": "1.5.0",
      "model_name": "DescriptionStyleModel",
      "state": {
       "_model_module": "@jupyter-widgets/controls",
       "_model_module_version": "1.5.0",
       "_model_name": "DescriptionStyleModel",
       "_view_count": null,
       "_view_module": "@jupyter-widgets/base",
       "_view_module_version": "1.2.0",
       "_view_name": "StyleView",
       "description_width": ""
      }
     },
     "7d30a65f8d5a4e24989c94d245b85993": {
      "model_module": "@jupyter-widgets/controls",
      "model_module_version": "1.5.0",
      "model_name": "ProgressStyleModel",
      "state": {
       "_model_module": "@jupyter-widgets/controls",
       "_model_module_version": "1.5.0",
       "_model_name": "ProgressStyleModel",
       "_view_count": null,
       "_view_module": "@jupyter-widgets/base",
       "_view_module_version": "1.2.0",
       "_view_name": "StyleView",
       "bar_color": null,
       "description_width": ""
      }
     },
     "82bcc1364d7945e09f969d0d480afb3f": {
      "model_module": "@jupyter-widgets/controls",
      "model_module_version": "1.5.0",
      "model_name": "DescriptionStyleModel",
      "state": {
       "_model_module": "@jupyter-widgets/controls",
       "_model_module_version": "1.5.0",
       "_model_name": "DescriptionStyleModel",
       "_view_count": null,
       "_view_module": "@jupyter-widgets/base",
       "_view_module_version": "1.2.0",
       "_view_name": "StyleView",
       "description_width": ""
      }
     },
     "852a90536e8c409ba9a97b3800064274": {
      "model_module": "@jupyter-widgets/controls",
      "model_module_version": "1.5.0",
      "model_name": "HTMLModel",
      "state": {
       "_dom_classes": [],
       "_model_module": "@jupyter-widgets/controls",
       "_model_module_version": "1.5.0",
       "_model_name": "HTMLModel",
       "_view_count": null,
       "_view_module": "@jupyter-widgets/controls",
       "_view_module_version": "1.5.0",
       "_view_name": "HTMLView",
       "description": "",
       "description_tooltip": null,
       "layout": "IPY_MODEL_002cd16515ab44f990ca154bbfd5a39e",
       "placeholder": "​",
       "style": "IPY_MODEL_1cca0a28cf024fc694ed41d82bcc42b3",
       "value": "config.json: 100%"
      }
     },
     "8d17b871d9604573914cf6d8af4fb9a0": {
      "model_module": "@jupyter-widgets/controls",
      "model_module_version": "1.5.0",
      "model_name": "ProgressStyleModel",
      "state": {
       "_model_module": "@jupyter-widgets/controls",
       "_model_module_version": "1.5.0",
       "_model_name": "ProgressStyleModel",
       "_view_count": null,
       "_view_module": "@jupyter-widgets/base",
       "_view_module_version": "1.2.0",
       "_view_name": "StyleView",
       "bar_color": null,
       "description_width": ""
      }
     },
     "9567b5a37f93444a8da90f13f76134e6": {
      "model_module": "@jupyter-widgets/base",
      "model_module_version": "1.2.0",
      "model_name": "LayoutModel",
      "state": {
       "_model_module": "@jupyter-widgets/base",
       "_model_module_version": "1.2.0",
       "_model_name": "LayoutModel",
       "_view_count": null,
       "_view_module": "@jupyter-widgets/base",
       "_view_module_version": "1.2.0",
       "_view_name": "LayoutView",
       "align_content": null,
       "align_items": null,
       "align_self": null,
       "border": null,
       "bottom": null,
       "display": null,
       "flex": null,
       "flex_flow": null,
       "grid_area": null,
       "grid_auto_columns": null,
       "grid_auto_flow": null,
       "grid_auto_rows": null,
       "grid_column": null,
       "grid_gap": null,
       "grid_row": null,
       "grid_template_areas": null,
       "grid_template_columns": null,
       "grid_template_rows": null,
       "height": null,
       "justify_content": null,
       "justify_items": null,
       "left": null,
       "margin": null,
       "max_height": null,
       "max_width": null,
       "min_height": null,
       "min_width": null,
       "object_fit": null,
       "object_position": null,
       "order": null,
       "overflow": null,
       "overflow_x": null,
       "overflow_y": null,
       "padding": null,
       "right": null,
       "top": null,
       "visibility": null,
       "width": null
      }
     },
     "9975c0a58b174299869abd1ccf2f04c6": {
      "model_module": "@jupyter-widgets/controls",
      "model_module_version": "1.5.0",
      "model_name": "HTMLModel",
      "state": {
       "_dom_classes": [],
       "_model_module": "@jupyter-widgets/controls",
       "_model_module_version": "1.5.0",
       "_model_name": "HTMLModel",
       "_view_count": null,
       "_view_module": "@jupyter-widgets/controls",
       "_view_module_version": "1.5.0",
       "_view_name": "HTMLView",
       "description": "",
       "description_tooltip": null,
       "layout": "IPY_MODEL_110cd544d9a44849825a01430edfaeca",
       "placeholder": "​",
       "style": "IPY_MODEL_7862bd3436a3498289805d230b5775fd",
       "value": "tokenizer_config.json: 100%"
      }
     },
     "9cfca91c3e4e425e8cc985a374eaba69": {
      "model_module": "@jupyter-widgets/controls",
      "model_module_version": "1.5.0",
      "model_name": "FloatProgressModel",
      "state": {
       "_dom_classes": [],
       "_model_module": "@jupyter-widgets/controls",
       "_model_module_version": "1.5.0",
       "_model_name": "FloatProgressModel",
       "_view_count": null,
       "_view_module": "@jupyter-widgets/controls",
       "_view_module_version": "1.5.0",
       "_view_name": "ProgressView",
       "bar_style": "success",
       "description": "",
       "description_tooltip": null,
       "layout": "IPY_MODEL_a2e725682ac544cd95738284c85ac4c6",
       "max": 456.0,
       "min": 0.0,
       "orientation": "horizontal",
       "style": "IPY_MODEL_fb4cd7b909624ca493be8da2bf9ff69c",
       "value": 456.0
      }
     },
     "a2e725682ac544cd95738284c85ac4c6": {
      "model_module": "@jupyter-widgets/base",
      "model_module_version": "1.2.0",
      "model_name": "LayoutModel",
      "state": {
       "_model_module": "@jupyter-widgets/base",
       "_model_module_version": "1.2.0",
       "_model_name": "LayoutModel",
       "_view_count": null,
       "_view_module": "@jupyter-widgets/base",
       "_view_module_version": "1.2.0",
       "_view_name": "LayoutView",
       "align_content": null,
       "align_items": null,
       "align_self": null,
       "border": null,
       "bottom": null,
       "display": null,
       "flex": null,
       "flex_flow": null,
       "grid_area": null,
       "grid_auto_columns": null,
       "grid_auto_flow": null,
       "grid_auto_rows": null,
       "grid_column": null,
       "grid_gap": null,
       "grid_row": null,
       "grid_template_areas": null,
       "grid_template_columns": null,
       "grid_template_rows": null,
       "height": null,
       "justify_content": null,
       "justify_items": null,
       "left": null,
       "margin": null,
       "max_height": null,
       "max_width": null,
       "min_height": null,
       "min_width": null,
       "object_fit": null,
       "object_position": null,
       "order": null,
       "overflow": null,
       "overflow_x": null,
       "overflow_y": null,
       "padding": null,
       "right": null,
       "top": null,
       "visibility": null,
       "width": null
      }
     },
     "a356a0b4156d4c1aadeb073fc9d229e8": {
      "model_module": "@jupyter-widgets/controls",
      "model_module_version": "1.5.0",
      "model_name": "HBoxModel",
      "state": {
       "_dom_classes": [],
       "_model_module": "@jupyter-widgets/controls",
       "_model_module_version": "1.5.0",
       "_model_name": "HBoxModel",
       "_view_count": null,
       "_view_module": "@jupyter-widgets/controls",
       "_view_module_version": "1.5.0",
       "_view_name": "HBoxView",
       "box_style": "",
       "children": [
        "IPY_MODEL_dffcbe60ce394a8f87ba239fcf516372",
        "IPY_MODEL_308ece4b0b154a2594bc4cdea1730760",
        "IPY_MODEL_37a7306923d04ba6848ad6b2427329d1"
       ],
       "layout": "IPY_MODEL_1f0767526a67441d869e52fcf06df0c1"
      }
     },
     "b10213933f154107ba606842efdc26ff": {
      "model_module": "@jupyter-widgets/controls",
      "model_module_version": "1.5.0",
      "model_name": "ProgressStyleModel",
      "state": {
       "_model_module": "@jupyter-widgets/controls",
       "_model_module_version": "1.5.0",
       "_model_name": "ProgressStyleModel",
       "_view_count": null,
       "_view_module": "@jupyter-widgets/base",
       "_view_module_version": "1.2.0",
       "_view_name": "StyleView",
       "bar_color": null,
       "description_width": ""
      }
     },
     "bb712dba6d224e489f434fdbfa150d53": {
      "model_module": "@jupyter-widgets/base",
      "model_module_version": "1.2.0",
      "model_name": "LayoutModel",
      "state": {
       "_model_module": "@jupyter-widgets/base",
       "_model_module_version": "1.2.0",
       "_model_name": "LayoutModel",
       "_view_count": null,
       "_view_module": "@jupyter-widgets/base",
       "_view_module_version": "1.2.0",
       "_view_name": "LayoutView",
       "align_content": null,
       "align_items": null,
       "align_self": null,
       "border": null,
       "bottom": null,
       "display": null,
       "flex": null,
       "flex_flow": null,
       "grid_area": null,
       "grid_auto_columns": null,
       "grid_auto_flow": null,
       "grid_auto_rows": null,
       "grid_column": null,
       "grid_gap": null,
       "grid_row": null,
       "grid_template_areas": null,
       "grid_template_columns": null,
       "grid_template_rows": null,
       "height": null,
       "justify_content": null,
       "justify_items": null,
       "left": null,
       "margin": null,
       "max_height": null,
       "max_width": null,
       "min_height": null,
       "min_width": null,
       "object_fit": null,
       "object_position": null,
       "order": null,
       "overflow": null,
       "overflow_x": null,
       "overflow_y": null,
       "padding": null,
       "right": null,
       "top": null,
       "visibility": null,
       "width": null
      }
     },
     "caad15b76a1a44e5a8043fcac5503779": {
      "model_module": "@jupyter-widgets/controls",
      "model_module_version": "1.5.0",
      "model_name": "DescriptionStyleModel",
      "state": {
       "_model_module": "@jupyter-widgets/controls",
       "_model_module_version": "1.5.0",
       "_model_name": "DescriptionStyleModel",
       "_view_count": null,
       "_view_module": "@jupyter-widgets/base",
       "_view_module_version": "1.2.0",
       "_view_name": "StyleView",
       "description_width": ""
      }
     },
     "d5815c4f137a482dbe23808b8f9a7bc6": {
      "model_module": "@jupyter-widgets/controls",
      "model_module_version": "1.5.0",
      "model_name": "HTMLModel",
      "state": {
       "_dom_classes": [],
       "_model_module": "@jupyter-widgets/controls",
       "_model_module_version": "1.5.0",
       "_model_name": "HTMLModel",
       "_view_count": null,
       "_view_module": "@jupyter-widgets/controls",
       "_view_module_version": "1.5.0",
       "_view_name": "HTMLView",
       "description": "",
       "description_tooltip": null,
       "layout": "IPY_MODEL_35c41cc9b0e34cfbb6fec2ea2965e77a",
       "placeholder": "​",
       "style": "IPY_MODEL_caad15b76a1a44e5a8043fcac5503779",
       "value": "special_tokens_map.json: 100%"
      }
     },
     "dd2ba20caa14485eac40aa4863625d2b": {
      "model_module": "@jupyter-widgets/controls",
      "model_module_version": "1.5.0",
      "model_name": "HBoxModel",
      "state": {
       "_dom_classes": [],
       "_model_module": "@jupyter-widgets/controls",
       "_model_module_version": "1.5.0",
       "_model_name": "HBoxModel",
       "_view_count": null,
       "_view_module": "@jupyter-widgets/controls",
       "_view_module_version": "1.5.0",
       "_view_name": "HBoxView",
       "box_style": "",
       "children": [
        "IPY_MODEL_852a90536e8c409ba9a97b3800064274",
        "IPY_MODEL_65e2e84ebbde4b7b8d6638d4271c5613",
        "IPY_MODEL_07f3445afb8a410bb351108ee597753e"
       ],
       "layout": "IPY_MODEL_4b3683aef87b4d388d1fe8ca7d36bff7"
      }
     },
     "dd999c5e3dbf48d9a29a676a2551e022": {
      "model_module": "@jupyter-widgets/base",
      "model_module_version": "1.2.0",
      "model_name": "LayoutModel",
      "state": {
       "_model_module": "@jupyter-widgets/base",
       "_model_module_version": "1.2.0",
       "_model_name": "LayoutModel",
       "_view_count": null,
       "_view_module": "@jupyter-widgets/base",
       "_view_module_version": "1.2.0",
       "_view_name": "LayoutView",
       "align_content": null,
       "align_items": null,
       "align_self": null,
       "border": null,
       "bottom": null,
       "display": null,
       "flex": null,
       "flex_flow": null,
       "grid_area": null,
       "grid_auto_columns": null,
       "grid_auto_flow": null,
       "grid_auto_rows": null,
       "grid_column": null,
       "grid_gap": null,
       "grid_row": null,
       "grid_template_areas": null,
       "grid_template_columns": null,
       "grid_template_rows": null,
       "height": null,
       "justify_content": null,
       "justify_items": null,
       "left": null,
       "margin": null,
       "max_height": null,
       "max_width": null,
       "min_height": null,
       "min_width": null,
       "object_fit": null,
       "object_position": null,
       "order": null,
       "overflow": null,
       "overflow_x": null,
       "overflow_y": null,
       "padding": null,
       "right": null,
       "top": null,
       "visibility": null,
       "width": null
      }
     },
     "dffcbe60ce394a8f87ba239fcf516372": {
      "model_module": "@jupyter-widgets/controls",
      "model_module_version": "1.5.0",
      "model_name": "HTMLModel",
      "state": {
       "_dom_classes": [],
       "_model_module": "@jupyter-widgets/controls",
       "_model_module_version": "1.5.0",
       "_model_name": "HTMLModel",
       "_view_count": null,
       "_view_module": "@jupyter-widgets/controls",
       "_view_module_version": "1.5.0",
       "_view_name": "HTMLView",
       "description": "",
       "description_tooltip": null,
       "layout": "IPY_MODEL_74bee3accb494eca9ef5b1ede0da5da2",
       "placeholder": "​",
       "style": "IPY_MODEL_4ba7b40222904e4eb7bc78f28b2a47fb",
       "value": "model.safetensors: 100%"
      }
     },
     "ef1f731711c1466e8f8621c4086d7e1e": {
      "model_module": "@jupyter-widgets/base",
      "model_module_version": "1.2.0",
      "model_name": "LayoutModel",
      "state": {
       "_model_module": "@jupyter-widgets/base",
       "_model_module_version": "1.2.0",
       "_model_name": "LayoutModel",
       "_view_count": null,
       "_view_module": "@jupyter-widgets/base",
       "_view_module_version": "1.2.0",
       "_view_name": "LayoutView",
       "align_content": null,
       "align_items": null,
       "align_self": null,
       "border": null,
       "bottom": null,
       "display": null,
       "flex": null,
       "flex_flow": null,
       "grid_area": null,
       "grid_auto_columns": null,
       "grid_auto_flow": null,
       "grid_auto_rows": null,
       "grid_column": null,
       "grid_gap": null,
       "grid_row": null,
       "grid_template_areas": null,
       "grid_template_columns": null,
       "grid_template_rows": null,
       "height": null,
       "justify_content": null,
       "justify_items": null,
       "left": null,
       "margin": null,
       "max_height": null,
       "max_width": null,
       "min_height": null,
       "min_width": null,
       "object_fit": null,
       "object_position": null,
       "order": null,
       "overflow": null,
       "overflow_x": null,
       "overflow_y": null,
       "padding": null,
       "right": null,
       "top": null,
       "visibility": null,
       "width": null
      }
     },
     "fb4cd7b909624ca493be8da2bf9ff69c": {
      "model_module": "@jupyter-widgets/controls",
      "model_module_version": "1.5.0",
      "model_name": "ProgressStyleModel",
      "state": {
       "_model_module": "@jupyter-widgets/controls",
       "_model_module_version": "1.5.0",
       "_model_name": "ProgressStyleModel",
       "_view_count": null,
       "_view_module": "@jupyter-widgets/base",
       "_view_module_version": "1.2.0",
       "_view_name": "StyleView",
       "bar_color": null,
       "description_width": ""
      }
     },
     "fb6e224714d649ecb76f0dae17e1c4e3": {
      "model_module": "@jupyter-widgets/base",
      "model_module_version": "1.2.0",
      "model_name": "LayoutModel",
      "state": {
       "_model_module": "@jupyter-widgets/base",
       "_model_module_version": "1.2.0",
       "_model_name": "LayoutModel",
       "_view_count": null,
       "_view_module": "@jupyter-widgets/base",
       "_view_module_version": "1.2.0",
       "_view_name": "LayoutView",
       "align_content": null,
       "align_items": null,
       "align_self": null,
       "border": null,
       "bottom": null,
       "display": null,
       "flex": null,
       "flex_flow": null,
       "grid_area": null,
       "grid_auto_columns": null,
       "grid_auto_flow": null,
       "grid_auto_rows": null,
       "grid_column": null,
       "grid_gap": null,
       "grid_row": null,
       "grid_template_areas": null,
       "grid_template_columns": null,
       "grid_template_rows": null,
       "height": null,
       "justify_content": null,
       "justify_items": null,
       "left": null,
       "margin": null,
       "max_height": null,
       "max_width": null,
       "min_height": null,
       "min_width": null,
       "object_fit": null,
       "object_position": null,
       "order": null,
       "overflow": null,
       "overflow_x": null,
       "overflow_y": null,
       "padding": null,
       "right": null,
       "top": null,
       "visibility": null,
       "width": null
      }
     },
     "fca4ab0af8b34fa28f7dd24685da9322": {
      "model_module": "@jupyter-widgets/controls",
      "model_module_version": "1.5.0",
      "model_name": "DescriptionStyleModel",
      "state": {
       "_model_module": "@jupyter-widgets/controls",
       "_model_module_version": "1.5.0",
       "_model_name": "DescriptionStyleModel",
       "_view_count": null,
       "_view_module": "@jupyter-widgets/base",
       "_view_module_version": "1.2.0",
       "_view_name": "StyleView",
       "description_width": ""
      }
     },
     "fd79766d1cc54772a3d54fc4453170c4": {
      "model_module": "@jupyter-widgets/controls",
      "model_module_version": "1.5.0",
      "model_name": "HBoxModel",
      "state": {
       "_dom_classes": [],
       "_model_module": "@jupyter-widgets/controls",
       "_model_module_version": "1.5.0",
       "_model_name": "HBoxModel",
       "_view_count": null,
       "_view_module": "@jupyter-widgets/controls",
       "_view_module_version": "1.5.0",
       "_view_name": "HBoxView",
       "box_style": "",
       "children": [
        "IPY_MODEL_d5815c4f137a482dbe23808b8f9a7bc6",
        "IPY_MODEL_20895c66e8d546dd95e461de6f2b3d48",
        "IPY_MODEL_65c6054f2a384e3885a8c866feedf22a"
       ],
       "layout": "IPY_MODEL_ef1f731711c1466e8f8621c4086d7e1e"
      }
     }
    },
    "version_major": 2,
    "version_minor": 0
   }
  }
 },
 "nbformat": 4,
 "nbformat_minor": 5
}
